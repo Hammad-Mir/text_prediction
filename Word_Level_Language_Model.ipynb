{
  "nbformat": 4,
  "nbformat_minor": 0,
  "metadata": {
    "colab": {
      "name": "DL_Language_Model_01.ipynb",
      "provenance": []
    },
    "kernelspec": {
      "name": "python3",
      "display_name": "Python 3"
    },
    "language_info": {
      "name": "python"
    },
    "accelerator": "GPU"
  },
  "cells": [
    {
      "cell_type": "code",
      "execution_count": 1,
      "metadata": {
        "id": "MtWJSxmlJlQk"
      },
      "outputs": [],
      "source": [
        "import os\n",
        "import sys\n",
        "import string\n",
        "import numpy as np\n",
        "from pickle import dump\n",
        "from tensorflow import keras\n",
        "from matplotlib import pyplot as plt\n",
        "from tensorflow.keras.models import Sequential\n",
        "from tensorflow.keras.utils import to_categorical\n",
        "from tensorflow.keras.preprocessing.text import Tokenizer\n",
        "from tensorflow.keras.layers import Dense, LSTM, Embedding, GRU"
      ]
    },
    {
      "cell_type": "code",
      "source": [
        "# path to text file\n",
        "doc_path = \"drive/MyDrive/Newcastle University/Deep Learning/Data/61262-0.txt\""
      ],
      "metadata": {
        "id": "F_uDTiDVkho9"
      },
      "execution_count": 2,
      "outputs": []
    },
    {
      "cell_type": "code",
      "source": [
        "# Function used to plot the curves for loss and accuracy:\n",
        "def plot_curves(history):\n",
        "\n",
        "  # Plotting the loss curve:\n",
        "  plt.subplot()\n",
        "  plt.title('Cross Entropy')\n",
        "  plt.ylabel('loss')\n",
        "  plt.xlabel('epoch')\n",
        "  # Plotting the training loss (blue):\n",
        "  plt.plot(history.history['loss'], color='red', label='train')\n",
        "  plt.plot(history.history['accuracy'], color='blue', label='train')\n",
        "  # Legend for the plot:\n",
        "  plt.legend(['loss', 'acc'], loc='upper left')\n",
        "  plt.show()\n",
        "\n",
        "print('Done!')"
      ],
      "metadata": {
        "colab": {
          "base_uri": "https://localhost:8080/"
        },
        "id": "svWdMnwj5Soj",
        "outputId": "b34926ae-9c89-4101-b318-8228fc17af9d"
      },
      "execution_count": 3,
      "outputs": [
        {
          "output_type": "stream",
          "name": "stdout",
          "text": [
            "Done!\n"
          ]
        }
      ]
    },
    {
      "cell_type": "code",
      "source": [
        "# load doc into memory\n",
        "def load_doc(filename):\n",
        "  # open the file as read only\n",
        "  file = open(filename, 'r')\n",
        "  # read all text\n",
        "  text = file.read()\n",
        "  # close the file\n",
        "  file.close()\n",
        "  return text"
      ],
      "metadata": {
        "id": "ryEnw6pikhuN"
      },
      "execution_count": 4,
      "outputs": []
    },
    {
      "cell_type": "code",
      "source": [
        "# function to convert a document into clean tokens\n",
        "def clean_doc(doc):\n",
        "\t# replacing '--' with a space ' '\n",
        "\tdoc = doc.replace('--', ' ')\n",
        "\t# splitting into tokens by white space\n",
        "\ttokens = doc.split()\n",
        "\t# removing punctuation from each token\n",
        "\ttable = str.maketrans('', '', string.punctuation)\n",
        "\ttokens = [w.translate(table) for w in tokens]\n",
        "\t# removing non-alphabetic tokens\n",
        "\ttokens = [word for word in tokens if word.isalpha()]\n",
        "\t# converting to lower case\n",
        "\ttokens = [word.lower() for word in tokens]\n",
        "\treturn tokens"
      ],
      "metadata": {
        "id": "9Jn1v4AkkhxD"
      },
      "execution_count": 5,
      "outputs": []
    },
    {
      "cell_type": "code",
      "source": [
        "# function to save tokens to file, one dialog per line\n",
        "def save_doc(lines, filename):\n",
        "\tdata = '\\n'.join(lines)\n",
        "\tfile = open(filename, 'w')\n",
        "\tfile.write(data)\n",
        "\tfile.close()"
      ],
      "metadata": {
        "id": "0akjRWGPkh0e"
      },
      "execution_count": 6,
      "outputs": []
    },
    {
      "cell_type": "code",
      "source": [
        "# loading the document\n",
        "doc = load_doc(doc_path)\n",
        "print(doc[:300])"
      ],
      "metadata": {
        "colab": {
          "base_uri": "https://localhost:8080/"
        },
        "id": "XFBw-mlykh2i",
        "outputId": "de1eccb5-dd22-43d9-f5d0-63ed317a33d5"
      },
      "execution_count": 7,
      "outputs": [
        {
          "output_type": "stream",
          "name": "stdout",
          "text": [
            "﻿The Project Gutenberg EBook of Poirot Investigates, by Agatha Christie\n",
            "\n",
            "This eBook is for the use of anyone anywhere in the United States and most\n",
            "other parts of the world at no cost and with almost no restrictions\n",
            "whatsoever.  You may copy it, give it away or re-use it under the terms of\n",
            "the Proje\n"
          ]
        }
      ]
    },
    {
      "cell_type": "code",
      "source": [
        "# getting total length of the document\n",
        "print('total length of the document:', len(doc), 'characters')\n",
        "\n",
        "# getting a list of all the unique words in the document\n",
        "characters = sorted(list(set(doc)))\n",
        "print('total unique characters:', len(characters))"
      ],
      "metadata": {
        "colab": {
          "base_uri": "https://localhost:8080/"
        },
        "id": "2-L9e3Vbpxk0",
        "outputId": "ea821185-d38e-4e75-b058-ae87df4d118d"
      },
      "execution_count": 8,
      "outputs": [
        {
          "output_type": "stream",
          "name": "stdout",
          "text": [
            "total length of the document: 316568 characters\n",
            "total unique characters: 104\n"
          ]
        }
      ]
    },
    {
      "cell_type": "code",
      "source": [
        "print(doc[1500:1666])"
      ],
      "metadata": {
        "colab": {
          "base_uri": "https://localhost:8080/"
        },
        "id": "4Ql1T6kMsyOl",
        "outputId": "a7a6330d-06aa-4dc5-8f01-7bc957553299"
      },
      "execution_count": 9,
      "outputs": [
        {
          "output_type": "stream",
          "name": "stdout",
          "text": [
            "Prime Minister\n",
            "\n",
            "  IX The Disappearance of Mr. Davenheim\n",
            "\n",
            "  X The Adventure of the Italian Nobleman\n",
            "\n",
            "  XI The Case of the Missing Will\n",
            "\n",
            "\n",
            "\n",
            "\n",
            "  POIROT INVESTIGATES\n",
            "\n",
            "\n",
            "\n",
            "\n",
            "  \n"
          ]
        }
      ]
    },
    {
      "cell_type": "code",
      "source": [
        "print(doc[1666:2000])"
      ],
      "metadata": {
        "colab": {
          "base_uri": "https://localhost:8080/"
        },
        "id": "zJg-EnRyzEIz",
        "outputId": "9bf4938a-60dc-41a7-dc50-498b6c1b75f4"
      },
      "execution_count": 10,
      "outputs": [
        {
          "output_type": "stream",
          "name": "stdout",
          "text": [
            "POIROT INVESTIGATES\n",
            "\n",
            "\n",
            "  I\n",
            "\n",
            "\n",
            "  The Adventure of “The Western Star”\n",
            "\n",
            "I was standing at the window of Poirot’s rooms looking out idly on\n",
            "the street below.\n",
            "\n",
            "“That’s queer,” I ejaculated suddenly beneath my breath.\n",
            "\n",
            "“What is, _mon ami_?” asked Poirot placidly, from the depths of\n",
            "his comfortable chair.\n",
            "\n",
            "“Deduce, Poirot, from the following\n"
          ]
        }
      ]
    },
    {
      "cell_type": "code",
      "source": [
        "print(doc[-20000:-18970])"
      ],
      "metadata": {
        "colab": {
          "base_uri": "https://localhost:8080/"
        },
        "id": "fvXxUbfexjAh",
        "outputId": "7d98f01b-3c50-4f58-ec65-374ce92e9971"
      },
      "execution_count": 11,
      "outputs": [
        {
          "output_type": "stream",
          "name": "stdout",
          "text": [
            " He foresaw every step that a searcher\n",
            "would take—that I, miserable imbecile, took. He gets two will-forms,\n",
            "makes the servants sign twice, then sallies out with his will\n",
            "written on the inside of a dirty envelope and a fountain-pen\n",
            "containing his little ink mixture. On some excuse he gets the\n",
            "confectioner and his wife to sign their names under his own\n",
            "signature, then he ties it to the key of his desk and chuckles to\n",
            "himself. If his niece sees through his little ruse, she will have\n",
            "justified her choice of life and elaborate education, and be\n",
            "thoroughly welcome to his money.”\n",
            "\n",
            "“She didn’t see through it, did she?” I said slowly. “It seems\n",
            "rather unfair. The old man really won.”\n",
            "\n",
            "“But no, Hastings. It is _your_ wits that go astray. Miss Marsh\n",
            "proved the astuteness of her wits and the value of the higher\n",
            "education for women by at once putting the matter in _my_ hands.\n",
            "Always employ the expert. She has amply proved her right to the\n",
            "money.”\n",
            "\n",
            "I wonder—I very much wonder—what old Andrew Marsh would have\n",
            "thought!\n",
            "\n",
            "\n",
            "  THE END\n"
          ]
        }
      ]
    },
    {
      "cell_type": "code",
      "source": [
        "# removing disclaimer and text not part of the novel contents\n",
        "doc = doc[1666:-18970]"
      ],
      "metadata": {
        "id": "4QMX-FK5ywRl"
      },
      "execution_count": 12,
      "outputs": []
    },
    {
      "cell_type": "code",
      "source": [
        "print('First 100 characters\\n\\n', doc[:1000])\n",
        "print('\\n\\nLast 1000 characters\\n\\n', doc[-1000:])"
      ],
      "metadata": {
        "colab": {
          "base_uri": "https://localhost:8080/"
        },
        "id": "LFfBYt_qzra-",
        "outputId": "459ea2ae-0647-454e-b4d2-a5a7f74085ca"
      },
      "execution_count": 13,
      "outputs": [
        {
          "output_type": "stream",
          "name": "stdout",
          "text": [
            "First 100 characters\n",
            "\n",
            " POIROT INVESTIGATES\n",
            "\n",
            "\n",
            "  I\n",
            "\n",
            "\n",
            "  The Adventure of “The Western Star”\n",
            "\n",
            "I was standing at the window of Poirot’s rooms looking out idly on\n",
            "the street below.\n",
            "\n",
            "“That’s queer,” I ejaculated suddenly beneath my breath.\n",
            "\n",
            "“What is, _mon ami_?” asked Poirot placidly, from the depths of\n",
            "his comfortable chair.\n",
            "\n",
            "“Deduce, Poirot, from the following facts! Here is a young lady,\n",
            "richly dressed—fashionable hat, magnificent furs. She is coming\n",
            "along slowly, looking up at the houses as she goes. Unknown to her,\n",
            "she is being shadowed by three men and a middle-aged woman. They\n",
            "have just been joined by an errand boy who points after the girl,\n",
            "gesticulating as he does so. What drama is this being played? Is\n",
            "the girl a crook, and are the shadowers detectives preparing to\n",
            "arrest her? Or are _they_ the scoundrels, and are they plotting to\n",
            "attack an innocent victim? What does the great detective say?”\n",
            "\n",
            "“The great detective, _mon ami_, chooses, as ever, the simplest\n",
            "course. He rises to see for himself.” And my frie\n",
            "\n",
            "\n",
            "Last 1000 characters\n",
            "\n",
            " searcher\n",
            "would take—that I, miserable imbecile, took. He gets two will-forms,\n",
            "makes the servants sign twice, then sallies out with his will\n",
            "written on the inside of a dirty envelope and a fountain-pen\n",
            "containing his little ink mixture. On some excuse he gets the\n",
            "confectioner and his wife to sign their names under his own\n",
            "signature, then he ties it to the key of his desk and chuckles to\n",
            "himself. If his niece sees through his little ruse, she will have\n",
            "justified her choice of life and elaborate education, and be\n",
            "thoroughly welcome to his money.”\n",
            "\n",
            "“She didn’t see through it, did she?” I said slowly. “It seems\n",
            "rather unfair. The old man really won.”\n",
            "\n",
            "“But no, Hastings. It is _your_ wits that go astray. Miss Marsh\n",
            "proved the astuteness of her wits and the value of the higher\n",
            "education for women by at once putting the matter in _my_ hands.\n",
            "Always employ the expert. She has amply proved her right to the\n",
            "money.”\n",
            "\n",
            "I wonder—I very much wonder—what old Andrew Marsh would have\n",
            "thought!\n",
            "\n",
            "\n",
            "  THE END\n"
          ]
        }
      ]
    },
    {
      "cell_type": "code",
      "source": [
        "# cleaning document\n",
        "tokens = clean_doc(doc)\n",
        "print(tokens[:200])\n",
        "print('Total Tokens: %d' % len(tokens))\n",
        "print('Unique Tokens: %d' % len(set(tokens)))"
      ],
      "metadata": {
        "colab": {
          "base_uri": "https://localhost:8080/"
        },
        "id": "4KNvhkApo115",
        "outputId": "5b58e45b-91de-497b-ebed-4fa8a0552c70"
      },
      "execution_count": 14,
      "outputs": [
        {
          "output_type": "stream",
          "name": "stdout",
          "text": [
            "['poirot', 'investigates', 'i', 'the', 'adventure', 'of', 'western', 'i', 'was', 'standing', 'at', 'the', 'window', 'of', 'rooms', 'looking', 'out', 'idly', 'on', 'the', 'street', 'below', 'i', 'ejaculated', 'suddenly', 'beneath', 'my', 'breath', 'is', 'mon', 'asked', 'poirot', 'placidly', 'from', 'the', 'depths', 'of', 'his', 'comfortable', 'chair', 'poirot', 'from', 'the', 'following', 'facts', 'here', 'is', 'a', 'young', 'lady', 'richly', 'hat', 'magnificent', 'furs', 'she', 'is', 'coming', 'along', 'slowly', 'looking', 'up', 'at', 'the', 'houses', 'as', 'she', 'goes', 'unknown', 'to', 'her', 'she', 'is', 'being', 'shadowed', 'by', 'three', 'men', 'and', 'a', 'middleaged', 'woman', 'they', 'have', 'just', 'been', 'joined', 'by', 'an', 'errand', 'boy', 'who', 'points', 'after', 'the', 'girl', 'gesticulating', 'as', 'he', 'does', 'so', 'what', 'drama', 'is', 'this', 'being', 'played', 'is', 'the', 'girl', 'a', 'crook', 'and', 'are', 'the', 'shadowers', 'detectives', 'preparing', 'to', 'arrest', 'her', 'or', 'are', 'they', 'the', 'scoundrels', 'and', 'are', 'they', 'plotting', 'to', 'attack', 'an', 'innocent', 'victim', 'what', 'does', 'the', 'great', 'detective', 'great', 'detective', 'mon', 'ami', 'chooses', 'as', 'ever', 'the', 'simplest', 'course', 'he', 'rises', 'to', 'see', 'for', 'and', 'my', 'friend', 'joined', 'me', 'at', 'the', 'window', 'in', 'a', 'minute', 'he', 'gave', 'vent', 'to', 'an', 'amused', 'chuckle', 'usual', 'your', 'facts', 'are', 'tinged', 'with', 'your', 'incurable', 'romanticism', 'that', 'is', 'miss', 'mary', 'marvell', 'the', 'film', 'star', 'she', 'is', 'being', 'followed', 'by', 'a', 'bevy', 'of', 'admirers', 'who', 'have']\n",
            "Total Tokens: 47909\n",
            "Unique Tokens: 5595\n"
          ]
        }
      ]
    },
    {
      "cell_type": "code",
      "source": [
        "# organizing into sequences of tokens\n",
        "length = 30 + 1\n",
        "sequences = list()\n",
        "for i in range(length, len(tokens)):\n",
        "\t# select sequence of tokens\n",
        "\tseq = tokens[i-length:i]\n",
        "\t# convert into a line\n",
        "\tline = ' '.join(seq)\n",
        "\t# store\n",
        "\tsequences.append(line)\n",
        "print('Total Sequences: %d' % len(sequences))"
      ],
      "metadata": {
        "colab": {
          "base_uri": "https://localhost:8080/"
        },
        "id": "O4eqDd2Ro14g",
        "outputId": "02bcb7e5-6971-48e3-ab3d-9578d55a6c5e"
      },
      "execution_count": 15,
      "outputs": [
        {
          "output_type": "stream",
          "name": "stdout",
          "text": [
            "Total Sequences: 47878\n"
          ]
        }
      ]
    },
    {
      "cell_type": "code",
      "source": [
        "len(sequences)\n",
        "#sys.getsizeof(sequences)"
      ],
      "metadata": {
        "colab": {
          "base_uri": "https://localhost:8080/"
        },
        "id": "pAj406-vwIHQ",
        "outputId": "de00fa7e-eb4f-4346-feee-d81d6704777a"
      },
      "execution_count": 15,
      "outputs": [
        {
          "output_type": "execute_result",
          "data": {
            "text/plain": [
              "47878"
            ]
          },
          "metadata": {},
          "execution_count": 15
        }
      ]
    },
    {
      "cell_type": "code",
      "source": [
        "np.shape(sequences)"
      ],
      "metadata": {
        "colab": {
          "base_uri": "https://localhost:8080/"
        },
        "id": "JOR-utTP1aZ8",
        "outputId": "9e338440-7c9a-4e5d-d3c2-f4faed809b6e"
      },
      "execution_count": 16,
      "outputs": [
        {
          "output_type": "execute_result",
          "data": {
            "text/plain": [
              "(47878,)"
            ]
          },
          "metadata": {},
          "execution_count": 16
        }
      ]
    },
    {
      "cell_type": "code",
      "source": [
        "sequences[1]"
      ],
      "metadata": {
        "colab": {
          "base_uri": "https://localhost:8080/",
          "height": 35
        },
        "id": "YyqPl3F4WhYz",
        "outputId": "04ba174d-68ce-465f-806a-f21f669cd491"
      },
      "execution_count": 16,
      "outputs": [
        {
          "output_type": "execute_result",
          "data": {
            "application/vnd.google.colaboratory.intrinsic+json": {
              "type": "string"
            },
            "text/plain": [
              "'investigates i the adventure of western i was standing at the window of rooms looking out idly on the street below i ejaculated suddenly beneath my breath is mon asked poirot'"
            ]
          },
          "metadata": {},
          "execution_count": 16
        }
      ]
    },
    {
      "cell_type": "code",
      "source": [
        "# save sequences to file\n",
        "out_filename = 'drive/MyDrive/Newcastle University/Deep Learning/Data/piorot_investigates.txt'\n",
        "save_doc(sequences, out_filename)"
      ],
      "metadata": {
        "id": "8pu39gxKo16-"
      },
      "execution_count": 17,
      "outputs": []
    },
    {
      "cell_type": "markdown",
      "source": [
        "# loading the sequence from file\n",
        "doc = load_doc(out_filename)\n",
        "lines = doc.split('\\n')"
      ],
      "metadata": {
        "id": "u_HsGAWU09fF"
      }
    },
    {
      "cell_type": "code",
      "source": [
        "# integer encode sequences of words\n",
        "tokenizer = keras.preprocessing.text.Tokenizer()\n",
        "tokenizer.fit_on_texts(sequences)\n",
        "sequences = tokenizer.texts_to_sequences(sequences)"
      ],
      "metadata": {
        "id": "ev-SosDWo19d"
      },
      "execution_count": 18,
      "outputs": []
    },
    {
      "cell_type": "code",
      "source": [
        "# save the tokenizer\n",
        "dump(tokenizer, open('tokenizer.pkl', 'wb'))"
      ],
      "metadata": {
        "id": "NpNNP1X9-cv1"
      },
      "execution_count": null,
      "outputs": []
    },
    {
      "cell_type": "code",
      "source": [
        "# vocabulary size\n",
        "vocab_size = len(tokenizer.word_index) + 1\n",
        "vocab_size"
      ],
      "metadata": {
        "colab": {
          "base_uri": "https://localhost:8080/"
        },
        "id": "tUz9i-Wio1_y",
        "outputId": "a54bc42e-6cea-47fd-feb9-e16ed85b7853"
      },
      "execution_count": 19,
      "outputs": [
        {
          "output_type": "execute_result",
          "data": {
            "text/plain": [
              "5596"
            ]
          },
          "metadata": {},
          "execution_count": 19
        }
      ]
    },
    {
      "cell_type": "code",
      "source": [
        "# separate into input and output\n",
        "sequences = np.array(sequences)\n",
        "X, y = sequences[:,:-1], sequences[:,-1]\n",
        "y = to_categorical(y, num_classes=vocab_size)\n",
        "seq_length = X.shape[1]\n",
        "seq_length"
      ],
      "metadata": {
        "colab": {
          "base_uri": "https://localhost:8080/"
        },
        "id": "I0RPpB-Ro2EF",
        "outputId": "7c3d36e6-03d4-40e5-9e86-80587462ca90"
      },
      "execution_count": 20,
      "outputs": [
        {
          "output_type": "execute_result",
          "data": {
            "text/plain": [
              "30"
            ]
          },
          "metadata": {},
          "execution_count": 20
        }
      ]
    },
    {
      "cell_type": "markdown",
      "source": [
        "# Model 1\n",
        "\n",
        "Model 1 only has one LSTM layer followed by a classification layer"
      ],
      "metadata": {
        "id": "pofsgRuo5uNu"
      }
    },
    {
      "cell_type": "code",
      "source": [
        "# define model\n",
        "model_1 = Sequential()\n",
        "model_1.add(Embedding(vocab_size, 30, input_length=seq_length))\n",
        "model_1.add(LSTM(128))\n",
        "model_1.add(Dense(vocab_size, activation='softmax'))"
      ],
      "metadata": {
        "id": "qzPNtaeLo2G8"
      },
      "execution_count": 41,
      "outputs": []
    },
    {
      "cell_type": "code",
      "source": [
        "model_1.summary()"
      ],
      "metadata": {
        "colab": {
          "base_uri": "https://localhost:8080/"
        },
        "id": "uDFf6yXj3yxe",
        "outputId": "7088a004-83fd-4e08-ecbd-bebab8318433"
      },
      "execution_count": 42,
      "outputs": [
        {
          "output_type": "stream",
          "name": "stdout",
          "text": [
            "Model: \"sequential_4\"\n",
            "_________________________________________________________________\n",
            " Layer (type)                Output Shape              Param #   \n",
            "=================================================================\n",
            " embedding_4 (Embedding)     (None, 30, 30)            167880    \n",
            "                                                                 \n",
            " lstm_4 (LSTM)               (None, 128)               81408     \n",
            "                                                                 \n",
            " dense_4 (Dense)             (None, 5596)              721884    \n",
            "                                                                 \n",
            "=================================================================\n",
            "Total params: 971,172\n",
            "Trainable params: 971,172\n",
            "Non-trainable params: 0\n",
            "_________________________________________________________________\n"
          ]
        }
      ]
    },
    {
      "cell_type": "code",
      "source": [
        "sgd = keras.optimizers.SGD(learning_rate=0.002)\n",
        "adam = keras.optimizers.Adam(0.02)\n",
        "nadam = keras.optimizers.Nadam(learning_rate=0.002)"
      ],
      "metadata": {
        "id": "gRVEAoVG3_VH"
      },
      "execution_count": 43,
      "outputs": []
    },
    {
      "cell_type": "code",
      "source": [
        "# compile model\n",
        "model_1.compile(loss='categorical_crossentropy', optimizer=adam, metrics=['accuracy'])\n",
        "# fit model\n",
        "history = model_1.fit(X, y, batch_size=128, epochs=100)"
      ],
      "metadata": {
        "colab": {
          "base_uri": "https://localhost:8080/"
        },
        "id": "2aiAdxUHo2KW",
        "outputId": "4ef3ba02-60df-4b48-c9c3-1cbb3cd4bba1"
      },
      "execution_count": 44,
      "outputs": [
        {
          "output_type": "stream",
          "name": "stdout",
          "text": [
            "Epoch 1/100\n",
            "337/337 [==============================] - 6s 11ms/step - loss: 6.6676 - accuracy: 0.0627 - val_loss: 6.6060 - val_accuracy: 0.0620\n",
            "Epoch 2/100\n",
            "337/337 [==============================] - 3s 9ms/step - loss: 6.2456 - accuracy: 0.0732 - val_loss: 6.5532 - val_accuracy: 0.0796\n",
            "Epoch 3/100\n",
            "337/337 [==============================] - 3s 9ms/step - loss: 6.0302 - accuracy: 0.0845 - val_loss: 6.5147 - val_accuracy: 0.0871\n",
            "Epoch 4/100\n",
            "337/337 [==============================] - 3s 9ms/step - loss: 5.8409 - accuracy: 0.0956 - val_loss: 6.4820 - val_accuracy: 0.0911\n",
            "Epoch 5/100\n",
            "337/337 [==============================] - 3s 9ms/step - loss: 5.6678 - accuracy: 0.1039 - val_loss: 6.4931 - val_accuracy: 0.0936\n",
            "Epoch 6/100\n",
            "337/337 [==============================] - 3s 9ms/step - loss: 5.5048 - accuracy: 0.1114 - val_loss: 6.5019 - val_accuracy: 0.0998\n",
            "Epoch 7/100\n",
            "337/337 [==============================] - 3s 9ms/step - loss: 5.3414 - accuracy: 0.1217 - val_loss: 6.5323 - val_accuracy: 0.1023\n",
            "Epoch 8/100\n",
            "337/337 [==============================] - 3s 10ms/step - loss: 5.1800 - accuracy: 0.1302 - val_loss: 6.5719 - val_accuracy: 0.1090\n",
            "Epoch 9/100\n",
            "337/337 [==============================] - 3s 10ms/step - loss: 5.0227 - accuracy: 0.1388 - val_loss: 6.6169 - val_accuracy: 0.1159\n",
            "Epoch 10/100\n",
            "337/337 [==============================] - 3s 10ms/step - loss: 4.8691 - accuracy: 0.1492 - val_loss: 6.6871 - val_accuracy: 0.1151\n",
            "Epoch 11/100\n",
            "337/337 [==============================] - 3s 10ms/step - loss: 4.7188 - accuracy: 0.1592 - val_loss: 6.7460 - val_accuracy: 0.1159\n",
            "Epoch 12/100\n",
            "337/337 [==============================] - 3s 10ms/step - loss: 4.5726 - accuracy: 0.1688 - val_loss: 6.8066 - val_accuracy: 0.1163\n",
            "Epoch 13/100\n",
            "337/337 [==============================] - 3s 10ms/step - loss: 4.4280 - accuracy: 0.1777 - val_loss: 6.8972 - val_accuracy: 0.1092\n",
            "Epoch 14/100\n",
            "337/337 [==============================] - 3s 10ms/step - loss: 4.2876 - accuracy: 0.1870 - val_loss: 6.9651 - val_accuracy: 0.1134\n",
            "Epoch 15/100\n",
            "337/337 [==============================] - 3s 10ms/step - loss: 4.1493 - accuracy: 0.1991 - val_loss: 7.0601 - val_accuracy: 0.1119\n",
            "Epoch 16/100\n",
            "337/337 [==============================] - 3s 10ms/step - loss: 4.0143 - accuracy: 0.2129 - val_loss: 7.1467 - val_accuracy: 0.1061\n",
            "Epoch 17/100\n",
            "337/337 [==============================] - 3s 10ms/step - loss: 3.8804 - accuracy: 0.2291 - val_loss: 7.2391 - val_accuracy: 0.1107\n",
            "Epoch 18/100\n",
            "337/337 [==============================] - 3s 10ms/step - loss: 3.7531 - accuracy: 0.2453 - val_loss: 7.3268 - val_accuracy: 0.1094\n",
            "Epoch 19/100\n",
            "337/337 [==============================] - 3s 10ms/step - loss: 3.6304 - accuracy: 0.2638 - val_loss: 7.4497 - val_accuracy: 0.1099\n",
            "Epoch 20/100\n",
            "337/337 [==============================] - 3s 10ms/step - loss: 3.5141 - accuracy: 0.2811 - val_loss: 7.5318 - val_accuracy: 0.1117\n",
            "Epoch 21/100\n",
            "337/337 [==============================] - 3s 10ms/step - loss: 3.4049 - accuracy: 0.2967 - val_loss: 7.6321 - val_accuracy: 0.1063\n",
            "Epoch 22/100\n",
            "337/337 [==============================] - 3s 10ms/step - loss: 3.3011 - accuracy: 0.3134 - val_loss: 7.7572 - val_accuracy: 0.1071\n",
            "Epoch 23/100\n",
            "337/337 [==============================] - 3s 10ms/step - loss: 3.2029 - accuracy: 0.3282 - val_loss: 7.8631 - val_accuracy: 0.1036\n",
            "Epoch 24/100\n",
            "337/337 [==============================] - 3s 10ms/step - loss: 3.1180 - accuracy: 0.3423 - val_loss: 7.9731 - val_accuracy: 0.1034\n",
            "Epoch 25/100\n",
            "337/337 [==============================] - 3s 10ms/step - loss: 3.0239 - accuracy: 0.3600 - val_loss: 8.0849 - val_accuracy: 0.0975\n",
            "Epoch 26/100\n",
            "337/337 [==============================] - 3s 10ms/step - loss: 2.9411 - accuracy: 0.3737 - val_loss: 8.2035 - val_accuracy: 0.0936\n",
            "Epoch 27/100\n",
            "337/337 [==============================] - 3s 10ms/step - loss: 2.8621 - accuracy: 0.3880 - val_loss: 8.3208 - val_accuracy: 0.0973\n",
            "Epoch 28/100\n",
            "337/337 [==============================] - 3s 10ms/step - loss: 2.7887 - accuracy: 0.4020 - val_loss: 8.4290 - val_accuracy: 0.0998\n",
            "Epoch 29/100\n",
            "337/337 [==============================] - 3s 10ms/step - loss: 2.7159 - accuracy: 0.4137 - val_loss: 8.5436 - val_accuracy: 0.0965\n",
            "Epoch 30/100\n",
            "337/337 [==============================] - 3s 10ms/step - loss: 2.6474 - accuracy: 0.4289 - val_loss: 8.6676 - val_accuracy: 0.0940\n",
            "Epoch 31/100\n",
            "337/337 [==============================] - 3s 10ms/step - loss: 2.5812 - accuracy: 0.4410 - val_loss: 8.7696 - val_accuracy: 0.0911\n",
            "Epoch 32/100\n",
            "337/337 [==============================] - 3s 10ms/step - loss: 2.5157 - accuracy: 0.4538 - val_loss: 8.8931 - val_accuracy: 0.0919\n",
            "Epoch 33/100\n",
            "337/337 [==============================] - 3s 10ms/step - loss: 2.4563 - accuracy: 0.4658 - val_loss: 9.0089 - val_accuracy: 0.0919\n",
            "Epoch 34/100\n",
            "337/337 [==============================] - 3s 10ms/step - loss: 2.3960 - accuracy: 0.4755 - val_loss: 9.1201 - val_accuracy: 0.0927\n",
            "Epoch 35/100\n",
            "337/337 [==============================] - 3s 10ms/step - loss: 2.3400 - accuracy: 0.4882 - val_loss: 9.2133 - val_accuracy: 0.0904\n",
            "Epoch 36/100\n",
            "337/337 [==============================] - 3s 10ms/step - loss: 2.2837 - accuracy: 0.4993 - val_loss: 9.3313 - val_accuracy: 0.0904\n",
            "Epoch 37/100\n",
            "337/337 [==============================] - 3s 10ms/step - loss: 2.2296 - accuracy: 0.5091 - val_loss: 9.4381 - val_accuracy: 0.0888\n",
            "Epoch 38/100\n",
            "337/337 [==============================] - 3s 10ms/step - loss: 2.1781 - accuracy: 0.5183 - val_loss: 9.5773 - val_accuracy: 0.0909\n",
            "Epoch 39/100\n",
            "337/337 [==============================] - 3s 10ms/step - loss: 2.1284 - accuracy: 0.5296 - val_loss: 9.6668 - val_accuracy: 0.0875\n",
            "Epoch 40/100\n",
            "337/337 [==============================] - 3s 10ms/step - loss: 2.0767 - accuracy: 0.5424 - val_loss: 9.7865 - val_accuracy: 0.0871\n",
            "Epoch 41/100\n",
            "337/337 [==============================] - 3s 10ms/step - loss: 2.0301 - accuracy: 0.5503 - val_loss: 9.8760 - val_accuracy: 0.0852\n",
            "Epoch 42/100\n",
            "337/337 [==============================] - 4s 11ms/step - loss: 1.9841 - accuracy: 0.5604 - val_loss: 9.9665 - val_accuracy: 0.0869\n",
            "Epoch 43/100\n",
            "337/337 [==============================] - 4s 11ms/step - loss: 1.9387 - accuracy: 0.5709 - val_loss: 10.0882 - val_accuracy: 0.0848\n",
            "Epoch 44/100\n",
            "337/337 [==============================] - 3s 10ms/step - loss: 1.8951 - accuracy: 0.5804 - val_loss: 10.1936 - val_accuracy: 0.0829\n",
            "Epoch 45/100\n",
            "337/337 [==============================] - 3s 10ms/step - loss: 1.8534 - accuracy: 0.5884 - val_loss: 10.2930 - val_accuracy: 0.0831\n",
            "Epoch 46/100\n",
            "337/337 [==============================] - 3s 10ms/step - loss: 1.8115 - accuracy: 0.5976 - val_loss: 10.3842 - val_accuracy: 0.0846\n",
            "Epoch 47/100\n",
            "337/337 [==============================] - 3s 10ms/step - loss: 1.7709 - accuracy: 0.6068 - val_loss: 10.4833 - val_accuracy: 0.0815\n",
            "Epoch 48/100\n",
            "337/337 [==============================] - 3s 10ms/step - loss: 1.7305 - accuracy: 0.6147 - val_loss: 10.5991 - val_accuracy: 0.0796\n",
            "Epoch 49/100\n",
            "337/337 [==============================] - 3s 10ms/step - loss: 1.6903 - accuracy: 0.6238 - val_loss: 10.6944 - val_accuracy: 0.0806\n",
            "Epoch 50/100\n",
            "337/337 [==============================] - 3s 10ms/step - loss: 1.6559 - accuracy: 0.6325 - val_loss: 10.7853 - val_accuracy: 0.0796\n",
            "Epoch 51/100\n",
            "337/337 [==============================] - 3s 10ms/step - loss: 1.6191 - accuracy: 0.6397 - val_loss: 10.8956 - val_accuracy: 0.0802\n",
            "Epoch 52/100\n",
            "337/337 [==============================] - 3s 10ms/step - loss: 1.5812 - accuracy: 0.6487 - val_loss: 10.9738 - val_accuracy: 0.0789\n",
            "Epoch 53/100\n",
            "337/337 [==============================] - 3s 10ms/step - loss: 1.5488 - accuracy: 0.6580 - val_loss: 11.0745 - val_accuracy: 0.0779\n",
            "Epoch 54/100\n",
            "337/337 [==============================] - 3s 10ms/step - loss: 1.5139 - accuracy: 0.6631 - val_loss: 11.1883 - val_accuracy: 0.0756\n",
            "Epoch 55/100\n",
            "337/337 [==============================] - 3s 10ms/step - loss: 1.4815 - accuracy: 0.6703 - val_loss: 11.2816 - val_accuracy: 0.0758\n",
            "Epoch 56/100\n",
            "337/337 [==============================] - 3s 10ms/step - loss: 1.4478 - accuracy: 0.6772 - val_loss: 11.3766 - val_accuracy: 0.0802\n",
            "Epoch 57/100\n",
            "337/337 [==============================] - 3s 10ms/step - loss: 1.4161 - accuracy: 0.6857 - val_loss: 11.4677 - val_accuracy: 0.0739\n",
            "Epoch 58/100\n",
            "337/337 [==============================] - 3s 10ms/step - loss: 1.3853 - accuracy: 0.6937 - val_loss: 11.5537 - val_accuracy: 0.0760\n",
            "Epoch 59/100\n",
            "337/337 [==============================] - 3s 10ms/step - loss: 1.3576 - accuracy: 0.6991 - val_loss: 11.6415 - val_accuracy: 0.0760\n",
            "Epoch 60/100\n",
            "337/337 [==============================] - 3s 10ms/step - loss: 1.3440 - accuracy: 0.7013 - val_loss: 11.7420 - val_accuracy: 0.0750\n",
            "Epoch 61/100\n",
            "337/337 [==============================] - 3s 10ms/step - loss: 1.3081 - accuracy: 0.7107 - val_loss: 11.8357 - val_accuracy: 0.0764\n",
            "Epoch 62/100\n",
            "337/337 [==============================] - 3s 10ms/step - loss: 1.2722 - accuracy: 0.7177 - val_loss: 11.9287 - val_accuracy: 0.0754\n",
            "Epoch 63/100\n",
            "337/337 [==============================] - 3s 10ms/step - loss: 1.2438 - accuracy: 0.7241 - val_loss: 12.0276 - val_accuracy: 0.0735\n",
            "Epoch 64/100\n",
            "337/337 [==============================] - 3s 10ms/step - loss: 1.2174 - accuracy: 0.7307 - val_loss: 12.1180 - val_accuracy: 0.0714\n",
            "Epoch 65/100\n",
            "337/337 [==============================] - 3s 10ms/step - loss: 1.1908 - accuracy: 0.7377 - val_loss: 12.2021 - val_accuracy: 0.0708\n",
            "Epoch 66/100\n",
            "337/337 [==============================] - 3s 10ms/step - loss: 1.1697 - accuracy: 0.7426 - val_loss: 12.3224 - val_accuracy: 0.0716\n",
            "Epoch 67/100\n",
            "337/337 [==============================] - 3s 10ms/step - loss: 1.1422 - accuracy: 0.7482 - val_loss: 12.3925 - val_accuracy: 0.0714\n",
            "Epoch 68/100\n",
            "337/337 [==============================] - 3s 10ms/step - loss: 1.1175 - accuracy: 0.7550 - val_loss: 12.4841 - val_accuracy: 0.0718\n",
            "Epoch 69/100\n",
            "337/337 [==============================] - 3s 10ms/step - loss: 1.0956 - accuracy: 0.7595 - val_loss: 12.5695 - val_accuracy: 0.0741\n",
            "Epoch 70/100\n",
            "337/337 [==============================] - 3s 10ms/step - loss: 1.0714 - accuracy: 0.7649 - val_loss: 12.6828 - val_accuracy: 0.0727\n",
            "Epoch 71/100\n",
            "337/337 [==============================] - 3s 9ms/step - loss: 1.0516 - accuracy: 0.7702 - val_loss: 12.7450 - val_accuracy: 0.0706\n",
            "Epoch 72/100\n",
            "337/337 [==============================] - 3s 9ms/step - loss: 1.0319 - accuracy: 0.7741 - val_loss: 12.8460 - val_accuracy: 0.0693\n",
            "Epoch 73/100\n",
            "337/337 [==============================] - 4s 11ms/step - loss: 1.0130 - accuracy: 0.7793 - val_loss: 12.9172 - val_accuracy: 0.0687\n",
            "Epoch 74/100\n",
            "337/337 [==============================] - 3s 10ms/step - loss: 0.9908 - accuracy: 0.7839 - val_loss: 13.0199 - val_accuracy: 0.0693\n",
            "Epoch 75/100\n",
            "337/337 [==============================] - 3s 9ms/step - loss: 0.9687 - accuracy: 0.7888 - val_loss: 13.0975 - val_accuracy: 0.0675\n",
            "Epoch 76/100\n",
            "337/337 [==============================] - 3s 9ms/step - loss: 0.9483 - accuracy: 0.7948 - val_loss: 13.1948 - val_accuracy: 0.0662\n",
            "Epoch 77/100\n",
            "337/337 [==============================] - 3s 9ms/step - loss: 0.9277 - accuracy: 0.7989 - val_loss: 13.2783 - val_accuracy: 0.0700\n",
            "Epoch 78/100\n",
            "337/337 [==============================] - 3s 9ms/step - loss: 0.9111 - accuracy: 0.8017 - val_loss: 13.3498 - val_accuracy: 0.0695\n",
            "Epoch 79/100\n",
            "337/337 [==============================] - 3s 10ms/step - loss: 0.8936 - accuracy: 0.8081 - val_loss: 13.4649 - val_accuracy: 0.0660\n",
            "Epoch 80/100\n",
            "337/337 [==============================] - 3s 10ms/step - loss: 0.8783 - accuracy: 0.8105 - val_loss: 13.5231 - val_accuracy: 0.0643\n",
            "Epoch 81/100\n",
            "337/337 [==============================] - 4s 12ms/step - loss: 0.8642 - accuracy: 0.8122 - val_loss: 13.6278 - val_accuracy: 0.0629\n",
            "Epoch 82/100\n",
            "337/337 [==============================] - 3s 10ms/step - loss: 0.8447 - accuracy: 0.8190 - val_loss: 13.6679 - val_accuracy: 0.0652\n",
            "Epoch 83/100\n",
            "337/337 [==============================] - 4s 11ms/step - loss: 0.8294 - accuracy: 0.8216 - val_loss: 13.7617 - val_accuracy: 0.0645\n",
            "Epoch 84/100\n",
            "337/337 [==============================] - 4s 11ms/step - loss: 0.8138 - accuracy: 0.8252 - val_loss: 13.8286 - val_accuracy: 0.0687\n",
            "Epoch 85/100\n",
            "337/337 [==============================] - 3s 10ms/step - loss: 0.7972 - accuracy: 0.8282 - val_loss: 13.9372 - val_accuracy: 0.0664\n",
            "Epoch 86/100\n",
            "337/337 [==============================] - 3s 10ms/step - loss: 0.7856 - accuracy: 0.8314 - val_loss: 14.0008 - val_accuracy: 0.0652\n",
            "Epoch 87/100\n",
            "337/337 [==============================] - 3s 10ms/step - loss: 0.7670 - accuracy: 0.8359 - val_loss: 14.0853 - val_accuracy: 0.0616\n",
            "Epoch 88/100\n",
            "337/337 [==============================] - 3s 10ms/step - loss: 0.7575 - accuracy: 0.8369 - val_loss: 14.1825 - val_accuracy: 0.0627\n",
            "Epoch 89/100\n",
            "337/337 [==============================] - 3s 10ms/step - loss: 0.7427 - accuracy: 0.8415 - val_loss: 14.2173 - val_accuracy: 0.0614\n",
            "Epoch 90/100\n",
            "337/337 [==============================] - 3s 10ms/step - loss: 0.7266 - accuracy: 0.8446 - val_loss: 14.2906 - val_accuracy: 0.0624\n",
            "Epoch 91/100\n",
            "337/337 [==============================] - 3s 10ms/step - loss: 0.7171 - accuracy: 0.8469 - val_loss: 14.3834 - val_accuracy: 0.0629\n",
            "Epoch 92/100\n",
            "337/337 [==============================] - 3s 10ms/step - loss: 0.7033 - accuracy: 0.8492 - val_loss: 14.4288 - val_accuracy: 0.0641\n",
            "Epoch 93/100\n",
            "337/337 [==============================] - 3s 10ms/step - loss: 0.6932 - accuracy: 0.8536 - val_loss: 14.5265 - val_accuracy: 0.0616\n",
            "Epoch 94/100\n",
            "337/337 [==============================] - 4s 12ms/step - loss: 0.6833 - accuracy: 0.8540 - val_loss: 14.6021 - val_accuracy: 0.0637\n",
            "Epoch 95/100\n",
            "337/337 [==============================] - 5s 14ms/step - loss: 0.6626 - accuracy: 0.8589 - val_loss: 14.6976 - val_accuracy: 0.0608\n",
            "Epoch 96/100\n",
            "337/337 [==============================] - 5s 14ms/step - loss: 0.6509 - accuracy: 0.8623 - val_loss: 14.7555 - val_accuracy: 0.0614\n",
            "Epoch 97/100\n",
            "337/337 [==============================] - 4s 11ms/step - loss: 0.6406 - accuracy: 0.8654 - val_loss: 14.8304 - val_accuracy: 0.0650\n",
            "Epoch 98/100\n",
            "337/337 [==============================] - 3s 10ms/step - loss: 0.6380 - accuracy: 0.8665 - val_loss: 14.9259 - val_accuracy: 0.0608\n",
            "Epoch 99/100\n",
            "337/337 [==============================] - 3s 10ms/step - loss: 0.6369 - accuracy: 0.8629 - val_loss: 14.9559 - val_accuracy: 0.0643\n",
            "Epoch 100/100\n",
            "337/337 [==============================] - 3s 10ms/step - loss: 0.6186 - accuracy: 0.8693 - val_loss: 15.0437 - val_accuracy: 0.0637\n"
          ]
        }
      ]
    },
    {
      "cell_type": "code",
      "source": [
        "# save the model to file\n",
        "model_1.save('drive/MyDrive/Newcastle University/Deep Learning/Models/Language_Model_1.1.h5')"
      ],
      "metadata": {
        "id": "dm0O0JSZp-sv"
      },
      "execution_count": 46,
      "outputs": []
    },
    {
      "cell_type": "code",
      "source": [
        "plot_curves(history)"
      ],
      "metadata": {
        "id": "7toGWI9s-nS-"
      },
      "execution_count": null,
      "outputs": []
    },
    {
      "cell_type": "markdown",
      "source": [
        "# Model 2\n",
        "\n",
        "Model 2 only has 2 LSTM layers followed by a dense and a classification layer"
      ],
      "metadata": {
        "id": "S2PyPkay8CQw"
      }
    },
    {
      "cell_type": "code",
      "source": [
        "# define model\n",
        "model_2 = Sequential()\n",
        "model_2.add(Embedding(vocab_size, 30, input_length=seq_length))\n",
        "model_2.add(LSTM(128, return_sequences=True))\n",
        "model_2.add(LSTM(256))\n",
        "model_2.add(Dense(100, activation='relu'))\n",
        "model_2.add(Dense(vocab_size, activation='softmax'))"
      ],
      "metadata": {
        "id": "lZqFVY215qE4"
      },
      "execution_count": 47,
      "outputs": []
    },
    {
      "cell_type": "code",
      "source": [
        "model_2.summary()"
      ],
      "metadata": {
        "colab": {
          "base_uri": "https://localhost:8080/"
        },
        "outputId": "a396dcac-5419-4250-982d-f44177695cf4",
        "id": "rui_uaNl5qFD"
      },
      "execution_count": 48,
      "outputs": [
        {
          "output_type": "stream",
          "name": "stdout",
          "text": [
            "Model: \"sequential_5\"\n",
            "_________________________________________________________________\n",
            " Layer (type)                Output Shape              Param #   \n",
            "=================================================================\n",
            " embedding_5 (Embedding)     (None, 30, 30)            167880    \n",
            "                                                                 \n",
            " lstm_5 (LSTM)               (None, 30, 128)           81408     \n",
            "                                                                 \n",
            " lstm_6 (LSTM)               (None, 256)               394240    \n",
            "                                                                 \n",
            " dense_5 (Dense)             (None, 100)               25700     \n",
            "                                                                 \n",
            " dense_6 (Dense)             (None, 5596)              565196    \n",
            "                                                                 \n",
            "=================================================================\n",
            "Total params: 1,234,424\n",
            "Trainable params: 1,234,424\n",
            "Non-trainable params: 0\n",
            "_________________________________________________________________\n"
          ]
        }
      ]
    },
    {
      "cell_type": "code",
      "source": [
        "sgd = keras.optimizers.SGD(learning_rate=0.002)\n",
        "adam = keras.optimizers.Adam(0.002)\n",
        "nadam = keras.optimizers.Nadam(learning_rate=0.002)"
      ],
      "metadata": {
        "id": "cfRln8Hu5qFE"
      },
      "execution_count": 49,
      "outputs": []
    },
    {
      "cell_type": "code",
      "source": [
        "# compile model\n",
        "model_2.compile(loss='categorical_crossentropy', optimizer=adam, metrics=['accuracy'])\n",
        "# fit model\n",
        "history = model_2.fit(X, y, batch_size=128, epochs=100)"
      ],
      "metadata": {
        "colab": {
          "base_uri": "https://localhost:8080/"
        },
        "outputId": "a7bad056-ec4a-470b-b9d2-b32bdb45f2e2",
        "id": "4fjvAT8I5qFE"
      },
      "execution_count": 50,
      "outputs": [
        {
          "output_type": "stream",
          "name": "stdout",
          "text": [
            "Epoch 1/100\n",
            "375/375 [==============================] - 8s 14ms/step - loss: 6.6589 - accuracy: 0.0599\n",
            "Epoch 2/100\n",
            "375/375 [==============================] - 5s 13ms/step - loss: 6.2281 - accuracy: 0.0692\n",
            "Epoch 3/100\n",
            "375/375 [==============================] - 5s 13ms/step - loss: 6.0314 - accuracy: 0.0772\n",
            "Epoch 4/100\n",
            "375/375 [==============================] - 5s 13ms/step - loss: 5.8747 - accuracy: 0.0854\n",
            "Epoch 5/100\n",
            "375/375 [==============================] - 5s 12ms/step - loss: 5.7580 - accuracy: 0.0943\n",
            "Epoch 6/100\n",
            "375/375 [==============================] - 5s 12ms/step - loss: 5.6381 - accuracy: 0.0994\n",
            "Epoch 7/100\n",
            "375/375 [==============================] - 5s 12ms/step - loss: 5.5413 - accuracy: 0.1039\n",
            "Epoch 8/100\n",
            "375/375 [==============================] - 5s 12ms/step - loss: 5.4553 - accuracy: 0.1090\n",
            "Epoch 9/100\n",
            "375/375 [==============================] - 5s 12ms/step - loss: 5.3745 - accuracy: 0.1119\n",
            "Epoch 10/100\n",
            "375/375 [==============================] - 5s 12ms/step - loss: 5.3261 - accuracy: 0.1151\n",
            "Epoch 11/100\n",
            "375/375 [==============================] - 5s 12ms/step - loss: 5.2439 - accuracy: 0.1176\n",
            "Epoch 12/100\n",
            "375/375 [==============================] - 5s 13ms/step - loss: 5.1743 - accuracy: 0.1211\n",
            "Epoch 13/100\n",
            "375/375 [==============================] - 5s 13ms/step - loss: 5.1180 - accuracy: 0.1241\n",
            "Epoch 14/100\n",
            "375/375 [==============================] - 5s 13ms/step - loss: 5.0658 - accuracy: 0.1278\n",
            "Epoch 15/100\n",
            "375/375 [==============================] - 5s 13ms/step - loss: 4.9991 - accuracy: 0.1313\n",
            "Epoch 16/100\n",
            "375/375 [==============================] - 5s 13ms/step - loss: 4.9208 - accuracy: 0.1363\n",
            "Epoch 17/100\n",
            "375/375 [==============================] - 5s 13ms/step - loss: 4.8529 - accuracy: 0.1395\n",
            "Epoch 18/100\n",
            "375/375 [==============================] - 5s 13ms/step - loss: 4.7828 - accuracy: 0.1430\n",
            "Epoch 19/100\n",
            "375/375 [==============================] - 5s 13ms/step - loss: 4.7138 - accuracy: 0.1442\n",
            "Epoch 20/100\n",
            "375/375 [==============================] - 5s 13ms/step - loss: 4.6499 - accuracy: 0.1486\n",
            "Epoch 21/100\n",
            "375/375 [==============================] - 5s 13ms/step - loss: 4.5837 - accuracy: 0.1526\n",
            "Epoch 22/100\n",
            "375/375 [==============================] - 5s 13ms/step - loss: 4.5227 - accuracy: 0.1542\n",
            "Epoch 23/100\n",
            "375/375 [==============================] - 5s 13ms/step - loss: 4.4572 - accuracy: 0.1567\n",
            "Epoch 24/100\n",
            "375/375 [==============================] - 5s 13ms/step - loss: 4.3946 - accuracy: 0.1616\n",
            "Epoch 25/100\n",
            "375/375 [==============================] - 5s 13ms/step - loss: 4.3425 - accuracy: 0.1655\n",
            "Epoch 26/100\n",
            "375/375 [==============================] - 5s 13ms/step - loss: 4.2824 - accuracy: 0.1690\n",
            "Epoch 27/100\n",
            "375/375 [==============================] - 5s 13ms/step - loss: 4.2247 - accuracy: 0.1729\n",
            "Epoch 28/100\n",
            "375/375 [==============================] - 5s 13ms/step - loss: 4.1727 - accuracy: 0.1784\n",
            "Epoch 29/100\n",
            "375/375 [==============================] - 5s 13ms/step - loss: 4.1207 - accuracy: 0.1830\n",
            "Epoch 30/100\n",
            "375/375 [==============================] - 5s 13ms/step - loss: 4.0714 - accuracy: 0.1878\n",
            "Epoch 31/100\n",
            "375/375 [==============================] - 5s 13ms/step - loss: 4.0232 - accuracy: 0.1907\n",
            "Epoch 32/100\n",
            "375/375 [==============================] - 5s 13ms/step - loss: 3.9688 - accuracy: 0.1975\n",
            "Epoch 33/100\n",
            "375/375 [==============================] - 5s 13ms/step - loss: 3.9192 - accuracy: 0.2036\n",
            "Epoch 34/100\n",
            "375/375 [==============================] - 5s 13ms/step - loss: 3.8723 - accuracy: 0.2081\n",
            "Epoch 35/100\n",
            "375/375 [==============================] - 5s 13ms/step - loss: 3.8240 - accuracy: 0.2123\n",
            "Epoch 36/100\n",
            "375/375 [==============================] - 5s 13ms/step - loss: 3.7777 - accuracy: 0.2176\n",
            "Epoch 37/100\n",
            "375/375 [==============================] - 5s 13ms/step - loss: 3.7319 - accuracy: 0.2255\n",
            "Epoch 38/100\n",
            "375/375 [==============================] - 5s 13ms/step - loss: 3.6896 - accuracy: 0.2301\n",
            "Epoch 39/100\n",
            "375/375 [==============================] - 5s 13ms/step - loss: 3.6435 - accuracy: 0.2372\n",
            "Epoch 40/100\n",
            "375/375 [==============================] - 5s 13ms/step - loss: 3.6032 - accuracy: 0.2416\n",
            "Epoch 41/100\n",
            "375/375 [==============================] - 5s 13ms/step - loss: 3.5596 - accuracy: 0.2468\n",
            "Epoch 42/100\n",
            "375/375 [==============================] - 5s 13ms/step - loss: 3.5106 - accuracy: 0.2530\n",
            "Epoch 43/100\n",
            "375/375 [==============================] - 5s 13ms/step - loss: 3.4669 - accuracy: 0.2600\n",
            "Epoch 44/100\n",
            "375/375 [==============================] - 5s 13ms/step - loss: 3.4148 - accuracy: 0.2668\n",
            "Epoch 45/100\n",
            "375/375 [==============================] - 5s 13ms/step - loss: 3.3778 - accuracy: 0.2728\n",
            "Epoch 46/100\n",
            "375/375 [==============================] - 5s 13ms/step - loss: 3.3312 - accuracy: 0.2823\n",
            "Epoch 47/100\n",
            "375/375 [==============================] - 5s 13ms/step - loss: 3.2949 - accuracy: 0.2857\n",
            "Epoch 48/100\n",
            "375/375 [==============================] - 5s 13ms/step - loss: 3.2570 - accuracy: 0.2923\n",
            "Epoch 49/100\n",
            "375/375 [==============================] - 5s 13ms/step - loss: 3.2169 - accuracy: 0.2972\n",
            "Epoch 50/100\n",
            "375/375 [==============================] - 5s 13ms/step - loss: 3.1710 - accuracy: 0.3039\n",
            "Epoch 51/100\n",
            "375/375 [==============================] - 5s 13ms/step - loss: 3.1254 - accuracy: 0.3129\n",
            "Epoch 52/100\n",
            "375/375 [==============================] - 5s 13ms/step - loss: 3.0876 - accuracy: 0.3174\n",
            "Epoch 53/100\n",
            "375/375 [==============================] - 5s 13ms/step - loss: 3.0493 - accuracy: 0.3252\n",
            "Epoch 54/100\n",
            "375/375 [==============================] - 5s 13ms/step - loss: 3.0104 - accuracy: 0.3315\n",
            "Epoch 55/100\n",
            "375/375 [==============================] - 5s 13ms/step - loss: 2.9678 - accuracy: 0.3385\n",
            "Epoch 56/100\n",
            "375/375 [==============================] - 5s 13ms/step - loss: 2.9467 - accuracy: 0.3419\n",
            "Epoch 57/100\n",
            "375/375 [==============================] - 5s 13ms/step - loss: 2.8937 - accuracy: 0.3524\n",
            "Epoch 58/100\n",
            "375/375 [==============================] - 5s 13ms/step - loss: 2.8569 - accuracy: 0.3574\n",
            "Epoch 59/100\n",
            "375/375 [==============================] - 5s 13ms/step - loss: 2.8179 - accuracy: 0.3652\n",
            "Epoch 60/100\n",
            "375/375 [==============================] - 5s 13ms/step - loss: 2.7710 - accuracy: 0.3757\n",
            "Epoch 61/100\n",
            "375/375 [==============================] - 5s 13ms/step - loss: 2.7435 - accuracy: 0.3781\n",
            "Epoch 62/100\n",
            "375/375 [==============================] - 5s 13ms/step - loss: 2.6989 - accuracy: 0.3859\n",
            "Epoch 63/100\n",
            "375/375 [==============================] - 5s 13ms/step - loss: 2.6681 - accuracy: 0.3918\n",
            "Epoch 64/100\n",
            "375/375 [==============================] - 5s 13ms/step - loss: 2.6364 - accuracy: 0.3961\n",
            "Epoch 65/100\n",
            "375/375 [==============================] - 5s 13ms/step - loss: 2.5953 - accuracy: 0.4026\n",
            "Epoch 66/100\n",
            "375/375 [==============================] - 5s 13ms/step - loss: 2.5547 - accuracy: 0.4139\n",
            "Epoch 67/100\n",
            "375/375 [==============================] - 5s 13ms/step - loss: 2.5121 - accuracy: 0.4206\n",
            "Epoch 68/100\n",
            "375/375 [==============================] - 5s 13ms/step - loss: 2.4915 - accuracy: 0.4250\n",
            "Epoch 69/100\n",
            "375/375 [==============================] - 5s 13ms/step - loss: 2.4478 - accuracy: 0.4321\n",
            "Epoch 70/100\n",
            "375/375 [==============================] - 5s 13ms/step - loss: 2.4117 - accuracy: 0.4388\n",
            "Epoch 71/100\n",
            "375/375 [==============================] - 5s 13ms/step - loss: 2.3830 - accuracy: 0.4449\n",
            "Epoch 72/100\n",
            "375/375 [==============================] - 5s 13ms/step - loss: 2.3542 - accuracy: 0.4495\n",
            "Epoch 73/100\n",
            "375/375 [==============================] - 5s 13ms/step - loss: 2.3149 - accuracy: 0.4580\n",
            "Epoch 74/100\n",
            "375/375 [==============================] - 5s 13ms/step - loss: 2.2929 - accuracy: 0.4610\n",
            "Epoch 75/100\n",
            "375/375 [==============================] - 5s 13ms/step - loss: 2.2589 - accuracy: 0.4686\n",
            "Epoch 76/100\n",
            "375/375 [==============================] - 5s 13ms/step - loss: 2.2196 - accuracy: 0.4783\n",
            "Epoch 77/100\n",
            "375/375 [==============================] - 5s 13ms/step - loss: 2.1834 - accuracy: 0.4827\n",
            "Epoch 78/100\n",
            "375/375 [==============================] - 5s 13ms/step - loss: 2.1385 - accuracy: 0.4935\n",
            "Epoch 79/100\n",
            "375/375 [==============================] - 5s 13ms/step - loss: 2.1151 - accuracy: 0.4972\n",
            "Epoch 80/100\n",
            "375/375 [==============================] - 5s 13ms/step - loss: 2.0921 - accuracy: 0.5000\n",
            "Epoch 81/100\n",
            "375/375 [==============================] - 5s 13ms/step - loss: 2.0612 - accuracy: 0.5055\n",
            "Epoch 82/100\n",
            "375/375 [==============================] - 5s 13ms/step - loss: 2.0379 - accuracy: 0.5134\n",
            "Epoch 83/100\n",
            "375/375 [==============================] - 5s 14ms/step - loss: 1.9930 - accuracy: 0.5201\n",
            "Epoch 84/100\n",
            "375/375 [==============================] - 5s 13ms/step - loss: 1.9602 - accuracy: 0.5292\n",
            "Epoch 85/100\n",
            "375/375 [==============================] - 5s 13ms/step - loss: 1.9727 - accuracy: 0.5231\n",
            "Epoch 86/100\n",
            "375/375 [==============================] - 5s 13ms/step - loss: 1.9046 - accuracy: 0.5405\n",
            "Epoch 87/100\n",
            "375/375 [==============================] - 5s 13ms/step - loss: 1.8853 - accuracy: 0.5423\n",
            "Epoch 88/100\n",
            "375/375 [==============================] - 5s 13ms/step - loss: 1.8312 - accuracy: 0.5557\n",
            "Epoch 89/100\n",
            "375/375 [==============================] - 5s 13ms/step - loss: 1.8156 - accuracy: 0.5577\n",
            "Epoch 90/100\n",
            "375/375 [==============================] - 5s 13ms/step - loss: 1.8073 - accuracy: 0.5576\n",
            "Epoch 91/100\n",
            "375/375 [==============================] - 5s 13ms/step - loss: 1.7631 - accuracy: 0.5687\n",
            "Epoch 92/100\n",
            "375/375 [==============================] - 5s 13ms/step - loss: 1.7606 - accuracy: 0.5678\n",
            "Epoch 93/100\n",
            "375/375 [==============================] - 5s 13ms/step - loss: 1.7324 - accuracy: 0.5734\n",
            "Epoch 94/100\n",
            "375/375 [==============================] - 5s 13ms/step - loss: 1.6981 - accuracy: 0.5804\n",
            "Epoch 95/100\n",
            "375/375 [==============================] - 5s 13ms/step - loss: 1.6662 - accuracy: 0.5890\n",
            "Epoch 96/100\n",
            "375/375 [==============================] - 5s 13ms/step - loss: 1.6226 - accuracy: 0.6011\n",
            "Epoch 97/100\n",
            "375/375 [==============================] - 5s 13ms/step - loss: 1.6415 - accuracy: 0.5936\n",
            "Epoch 98/100\n",
            "375/375 [==============================] - 5s 13ms/step - loss: 1.5907 - accuracy: 0.6057\n",
            "Epoch 99/100\n",
            "375/375 [==============================] - 5s 13ms/step - loss: 1.5729 - accuracy: 0.6087\n",
            "Epoch 100/100\n",
            "375/375 [==============================] - 5s 13ms/step - loss: 1.5398 - accuracy: 0.6148\n"
          ]
        }
      ]
    },
    {
      "cell_type": "code",
      "source": [
        "# save the model to file\n",
        "model_2.save('drive/MyDrive/Newcastle University/Deep Learning/Models/Language_Model_2.h5')"
      ],
      "metadata": {
        "id": "d8JOnyOk5qFF"
      },
      "execution_count": 52,
      "outputs": []
    },
    {
      "cell_type": "code",
      "source": [
        "plot_curves(history)"
      ],
      "metadata": {
        "colab": {
          "base_uri": "https://localhost:8080/",
          "height": 295
        },
        "id": "FKk_78upDRb4",
        "outputId": "856eaa6d-bc08-452f-a376-7c1cd353ff17"
      },
      "execution_count": 59,
      "outputs": [
        {
          "output_type": "display_data",
          "data": {
            "image/png": "[encoded data removed]",
            "text/plain": [
              "<Figure size 432x288 with 1 Axes>"
            ]
          },
          "metadata": {
            "needs_background": "light"
          }
        }
      ]
    },
    {
      "cell_type": "markdown",
      "source": [
        "# Model 3\n",
        "\n",
        "Model 3 only has 1 GRU layers followed by a dense and a classification layer"
      ],
      "metadata": {
        "id": "WU38OGLZA-ps"
      }
    },
    {
      "cell_type": "code",
      "source": [
        "# define model\n",
        "model_3 = Sequential()\n",
        "model_3.add(Embedding(vocab_size, 30, input_length=seq_length))\n",
        "model_3.add(GRU(256))\n",
        "model_3.add(Dense(vocab_size, activation='softmax'))"
      ],
      "metadata": {
        "id": "1VEpyZ7TA-pt"
      },
      "execution_count": 64,
      "outputs": []
    },
    {
      "cell_type": "code",
      "source": [
        "model_3.summary()"
      ],
      "metadata": {
        "colab": {
          "base_uri": "https://localhost:8080/"
        },
        "outputId": "cf8d47d2-41f9-4d58-ff2c-5f8be35f292e",
        "id": "Blr3puavA-pu"
      },
      "execution_count": 65,
      "outputs": [
        {
          "output_type": "stream",
          "name": "stdout",
          "text": [
            "Model: \"sequential_8\"\n",
            "_________________________________________________________________\n",
            " Layer (type)                Output Shape              Param #   \n",
            "=================================================================\n",
            " embedding_8 (Embedding)     (None, 30, 30)            167880    \n",
            "                                                                 \n",
            " gru_1 (GRU)                 (None, 256)               221184    \n",
            "                                                                 \n",
            " dense_10 (Dense)            (None, 5596)              1438172   \n",
            "                                                                 \n",
            "=================================================================\n",
            "Total params: 1,827,236\n",
            "Trainable params: 1,827,236\n",
            "Non-trainable params: 0\n",
            "_________________________________________________________________\n"
          ]
        }
      ]
    },
    {
      "cell_type": "code",
      "source": [
        "sgd = keras.optimizers.SGD(learning_rate=0.002)\n",
        "adam = keras.optimizers.Adam(0.002)\n",
        "nadam = keras.optimizers.Nadam(learning_rate=0.002)"
      ],
      "metadata": {
        "id": "aOT5l-mXA-pv"
      },
      "execution_count": 66,
      "outputs": []
    },
    {
      "cell_type": "code",
      "source": [
        "# compile model\n",
        "model_3.compile(loss='categorical_crossentropy', optimizer=adam, metrics=['accuracy'])\n",
        "# fit model\n",
        "history = model_3.fit(X, y, batch_size=128, epochs=100)"
      ],
      "metadata": {
        "colab": {
          "base_uri": "https://localhost:8080/"
        },
        "outputId": "cc8b74b5-f3da-4795-8d4b-41440bb245ff",
        "id": "MwkE0E92A-pv"
      },
      "execution_count": 67,
      "outputs": [
        {
          "output_type": "stream",
          "name": "stdout",
          "text": [
            "Epoch 1/100\n",
            "375/375 [==============================] - 5s 9ms/step - loss: 6.7761 - accuracy: 0.0649\n",
            "Epoch 2/100\n",
            "375/375 [==============================] - 3s 9ms/step - loss: 6.0134 - accuracy: 0.0895\n",
            "Epoch 3/100\n",
            "375/375 [==============================] - 4s 9ms/step - loss: 5.6122 - accuracy: 0.1158\n",
            "Epoch 4/100\n",
            "375/375 [==============================] - 3s 9ms/step - loss: 5.2079 - accuracy: 0.1357\n",
            "Epoch 5/100\n",
            "375/375 [==============================] - 3s 9ms/step - loss: 4.7143 - accuracy: 0.1572\n",
            "Epoch 6/100\n",
            "375/375 [==============================] - 4s 9ms/step - loss: 4.1319 - accuracy: 0.2009\n",
            "Epoch 7/100\n",
            "375/375 [==============================] - 4s 10ms/step - loss: 3.5124 - accuracy: 0.2834\n",
            "Epoch 8/100\n",
            "375/375 [==============================] - 4s 10ms/step - loss: 2.9684 - accuracy: 0.3715\n",
            "Epoch 9/100\n",
            "375/375 [==============================] - 3s 9ms/step - loss: 2.5400 - accuracy: 0.4474\n",
            "Epoch 10/100\n",
            "375/375 [==============================] - 3s 9ms/step - loss: 2.1955 - accuracy: 0.5137\n",
            "Epoch 11/100\n",
            "375/375 [==============================] - 4s 9ms/step - loss: 1.9167 - accuracy: 0.5689\n",
            "Epoch 12/100\n",
            "375/375 [==============================] - 4s 12ms/step - loss: 1.6774 - accuracy: 0.6186\n",
            "Epoch 13/100\n",
            "375/375 [==============================] - 3s 9ms/step - loss: 1.4895 - accuracy: 0.6595\n",
            "Epoch 14/100\n",
            "375/375 [==============================] - 4s 10ms/step - loss: 1.3464 - accuracy: 0.6888\n",
            "Epoch 15/100\n",
            "375/375 [==============================] - 3s 9ms/step - loss: 1.2149 - accuracy: 0.7183\n",
            "Epoch 16/100\n",
            "375/375 [==============================] - 4s 10ms/step - loss: 1.1139 - accuracy: 0.7386\n",
            "Epoch 17/100\n",
            "375/375 [==============================] - 4s 10ms/step - loss: 1.0017 - accuracy: 0.7643\n",
            "Epoch 18/100\n",
            "375/375 [==============================] - 4s 10ms/step - loss: 0.9346 - accuracy: 0.7765\n",
            "Epoch 19/100\n",
            "375/375 [==============================] - 3s 9ms/step - loss: 0.8957 - accuracy: 0.7831\n",
            "Epoch 20/100\n",
            "375/375 [==============================] - 3s 9ms/step - loss: 0.8146 - accuracy: 0.8028\n",
            "Epoch 21/100\n",
            "375/375 [==============================] - 3s 9ms/step - loss: 0.7594 - accuracy: 0.8141\n",
            "Epoch 22/100\n",
            "375/375 [==============================] - 3s 9ms/step - loss: 0.7452 - accuracy: 0.8121\n",
            "Epoch 23/100\n",
            "375/375 [==============================] - 3s 9ms/step - loss: 0.7066 - accuracy: 0.8229\n",
            "Epoch 24/100\n",
            "375/375 [==============================] - 3s 9ms/step - loss: 0.6670 - accuracy: 0.8314\n",
            "Epoch 25/100\n",
            "375/375 [==============================] - 3s 9ms/step - loss: 0.6710 - accuracy: 0.8242\n",
            "Epoch 26/100\n",
            "375/375 [==============================] - 3s 9ms/step - loss: 0.6874 - accuracy: 0.8196\n",
            "Epoch 27/100\n",
            "375/375 [==============================] - 3s 9ms/step - loss: 0.6426 - accuracy: 0.8300\n",
            "Epoch 28/100\n",
            "375/375 [==============================] - 3s 9ms/step - loss: 0.6816 - accuracy: 0.8154\n",
            "Epoch 29/100\n",
            "375/375 [==============================] - 3s 9ms/step - loss: 0.6671 - accuracy: 0.8146\n",
            "Epoch 30/100\n",
            "375/375 [==============================] - 3s 9ms/step - loss: 0.6339 - accuracy: 0.8264\n",
            "Epoch 31/100\n",
            "375/375 [==============================] - 3s 9ms/step - loss: 0.5622 - accuracy: 0.8482\n",
            "Epoch 32/100\n",
            "375/375 [==============================] - 3s 9ms/step - loss: 0.5861 - accuracy: 0.8374\n",
            "Epoch 33/100\n",
            "375/375 [==============================] - 3s 9ms/step - loss: 0.5689 - accuracy: 0.8411\n",
            "Epoch 34/100\n",
            "375/375 [==============================] - 3s 9ms/step - loss: 0.6066 - accuracy: 0.8283\n",
            "Epoch 35/100\n",
            "375/375 [==============================] - 3s 9ms/step - loss: 0.6633 - accuracy: 0.8078\n",
            "Epoch 36/100\n",
            "375/375 [==============================] - 3s 9ms/step - loss: 0.6058 - accuracy: 0.8271\n",
            "Epoch 37/100\n",
            "375/375 [==============================] - 3s 9ms/step - loss: 0.7151 - accuracy: 0.7913\n",
            "Epoch 38/100\n",
            "375/375 [==============================] - 3s 9ms/step - loss: 0.6039 - accuracy: 0.8256\n",
            "Epoch 39/100\n",
            "375/375 [==============================] - 3s 9ms/step - loss: 0.6155 - accuracy: 0.8210\n",
            "Epoch 40/100\n",
            "375/375 [==============================] - 3s 9ms/step - loss: 0.6337 - accuracy: 0.8146\n",
            "Epoch 41/100\n",
            "375/375 [==============================] - 3s 9ms/step - loss: 0.7121 - accuracy: 0.7899\n",
            "Epoch 42/100\n",
            "375/375 [==============================] - 3s 9ms/step - loss: 0.7441 - accuracy: 0.7801\n",
            "Epoch 43/100\n",
            "375/375 [==============================] - 3s 9ms/step - loss: 0.6668 - accuracy: 0.8046\n",
            "Epoch 44/100\n",
            "375/375 [==============================] - 3s 9ms/step - loss: 0.6298 - accuracy: 0.8125\n",
            "Epoch 45/100\n",
            "375/375 [==============================] - 3s 9ms/step - loss: 0.6379 - accuracy: 0.8111\n",
            "Epoch 46/100\n",
            "375/375 [==============================] - 3s 9ms/step - loss: 0.6905 - accuracy: 0.7947\n",
            "Epoch 47/100\n",
            "375/375 [==============================] - 3s 9ms/step - loss: 0.6723 - accuracy: 0.8002\n",
            "Epoch 48/100\n",
            "375/375 [==============================] - 4s 10ms/step - loss: 0.7337 - accuracy: 0.7821\n",
            "Epoch 49/100\n",
            "375/375 [==============================] - 3s 9ms/step - loss: 0.7700 - accuracy: 0.7716\n",
            "Epoch 50/100\n",
            "375/375 [==============================] - 3s 9ms/step - loss: 0.7038 - accuracy: 0.7905\n",
            "Epoch 51/100\n",
            "375/375 [==============================] - 3s 9ms/step - loss: 0.7195 - accuracy: 0.7869\n",
            "Epoch 52/100\n",
            "375/375 [==============================] - 3s 9ms/step - loss: 0.7358 - accuracy: 0.7810\n",
            "Epoch 53/100\n",
            "375/375 [==============================] - 3s 9ms/step - loss: 0.7517 - accuracy: 0.7764\n",
            "Epoch 54/100\n",
            "375/375 [==============================] - 3s 9ms/step - loss: 0.7657 - accuracy: 0.7707\n",
            "Epoch 55/100\n",
            "375/375 [==============================] - 3s 9ms/step - loss: 0.7846 - accuracy: 0.7668\n",
            "Epoch 56/100\n",
            "375/375 [==============================] - 3s 9ms/step - loss: 0.8359 - accuracy: 0.7545\n",
            "Epoch 57/100\n",
            "375/375 [==============================] - 3s 9ms/step - loss: 0.8944 - accuracy: 0.7378\n",
            "Epoch 58/100\n",
            "375/375 [==============================] - 3s 9ms/step - loss: 1.0385 - accuracy: 0.7020\n",
            "Epoch 59/100\n",
            "375/375 [==============================] - 3s 9ms/step - loss: 0.9760 - accuracy: 0.7174\n",
            "Epoch 60/100\n",
            "375/375 [==============================] - 3s 9ms/step - loss: 0.9801 - accuracy: 0.7149\n",
            "Epoch 61/100\n",
            "375/375 [==============================] - 3s 9ms/step - loss: 0.9560 - accuracy: 0.7229\n",
            "Epoch 62/100\n",
            "375/375 [==============================] - 3s 9ms/step - loss: 0.9105 - accuracy: 0.7330\n",
            "Epoch 63/100\n",
            "375/375 [==============================] - 3s 9ms/step - loss: 0.8670 - accuracy: 0.7457\n",
            "Epoch 64/100\n",
            "375/375 [==============================] - 3s 9ms/step - loss: 0.9768 - accuracy: 0.7168\n",
            "Epoch 65/100\n",
            "375/375 [==============================] - 3s 9ms/step - loss: 1.0301 - accuracy: 0.7048\n",
            "Epoch 66/100\n",
            "375/375 [==============================] - 3s 9ms/step - loss: 1.0731 - accuracy: 0.6934\n",
            "Epoch 67/100\n",
            "375/375 [==============================] - 3s 9ms/step - loss: 1.0922 - accuracy: 0.6903\n",
            "Epoch 68/100\n",
            "375/375 [==============================] - 3s 9ms/step - loss: 1.1885 - accuracy: 0.6649\n",
            "Epoch 69/100\n",
            "375/375 [==============================] - 3s 9ms/step - loss: 1.1313 - accuracy: 0.6816\n",
            "Epoch 70/100\n",
            "375/375 [==============================] - 3s 9ms/step - loss: 1.1850 - accuracy: 0.6684\n",
            "Epoch 71/100\n",
            "375/375 [==============================] - 3s 9ms/step - loss: 1.1256 - accuracy: 0.6823\n",
            "Epoch 72/100\n",
            "375/375 [==============================] - 3s 9ms/step - loss: 1.1350 - accuracy: 0.6810\n",
            "Epoch 73/100\n",
            "375/375 [==============================] - 3s 9ms/step - loss: 1.2420 - accuracy: 0.6566\n",
            "Epoch 74/100\n",
            "375/375 [==============================] - 3s 9ms/step - loss: 1.2839 - accuracy: 0.6472\n",
            "Epoch 75/100\n",
            "375/375 [==============================] - 3s 9ms/step - loss: 1.2200 - accuracy: 0.6597\n",
            "Epoch 76/100\n",
            "375/375 [==============================] - 3s 9ms/step - loss: 1.2068 - accuracy: 0.6622\n",
            "Epoch 77/100\n",
            "375/375 [==============================] - 3s 9ms/step - loss: 1.3211 - accuracy: 0.6397\n",
            "Epoch 78/100\n",
            "375/375 [==============================] - 3s 9ms/step - loss: 1.4240 - accuracy: 0.6170\n",
            "Epoch 79/100\n",
            "375/375 [==============================] - 3s 9ms/step - loss: 1.3283 - accuracy: 0.6366\n",
            "Epoch 80/100\n",
            "375/375 [==============================] - 3s 9ms/step - loss: 1.3194 - accuracy: 0.6405\n",
            "Epoch 81/100\n",
            "375/375 [==============================] - 3s 9ms/step - loss: 1.3604 - accuracy: 0.6298\n",
            "Epoch 82/100\n",
            "375/375 [==============================] - 3s 9ms/step - loss: 1.5376 - accuracy: 0.5925\n",
            "Epoch 83/100\n",
            "375/375 [==============================] - 3s 9ms/step - loss: 1.4765 - accuracy: 0.6035\n",
            "Epoch 84/100\n",
            "375/375 [==============================] - 3s 9ms/step - loss: 1.4305 - accuracy: 0.6133\n",
            "Epoch 85/100\n",
            "375/375 [==============================] - 3s 9ms/step - loss: 1.3770 - accuracy: 0.6269\n",
            "Epoch 86/100\n",
            "375/375 [==============================] - 3s 9ms/step - loss: 1.4648 - accuracy: 0.6057\n",
            "Epoch 87/100\n",
            "375/375 [==============================] - 3s 9ms/step - loss: 1.4902 - accuracy: 0.6021\n",
            "Epoch 88/100\n",
            "375/375 [==============================] - 3s 9ms/step - loss: 1.5917 - accuracy: 0.5811\n",
            "Epoch 89/100\n",
            "375/375 [==============================] - 3s 9ms/step - loss: 1.8033 - accuracy: 0.5416\n",
            "Epoch 90/100\n",
            "375/375 [==============================] - 3s 9ms/step - loss: 2.0479 - accuracy: 0.5004\n",
            "Epoch 91/100\n",
            "375/375 [==============================] - 3s 9ms/step - loss: 2.4452 - accuracy: 0.4385\n",
            "Epoch 92/100\n",
            "375/375 [==============================] - 3s 9ms/step - loss: 2.4819 - accuracy: 0.4354\n",
            "Epoch 93/100\n",
            "375/375 [==============================] - 3s 9ms/step - loss: 2.3207 - accuracy: 0.4563\n",
            "Epoch 94/100\n",
            "375/375 [==============================] - 3s 9ms/step - loss: 2.1263 - accuracy: 0.4860\n",
            "Epoch 95/100\n",
            "375/375 [==============================] - 3s 9ms/step - loss: 2.0435 - accuracy: 0.4964\n",
            "Epoch 96/100\n",
            "375/375 [==============================] - 3s 9ms/step - loss: 2.1052 - accuracy: 0.4867\n",
            "Epoch 97/100\n",
            "375/375 [==============================] - 3s 9ms/step - loss: 2.2096 - accuracy: 0.4680\n",
            "Epoch 98/100\n",
            "375/375 [==============================] - 3s 9ms/step - loss: 2.2577 - accuracy: 0.4629\n",
            "Epoch 99/100\n",
            "375/375 [==============================] - 3s 9ms/step - loss: 2.3203 - accuracy: 0.4521\n",
            "Epoch 100/100\n",
            "375/375 [==============================] - 3s 9ms/step - loss: 3.0188 - accuracy: 0.3607\n"
          ]
        }
      ]
    },
    {
      "cell_type": "code",
      "source": [
        "# save the model to file\n",
        "model_3.save('drive/MyDrive/Newcastle University/Deep Learning/Models/Language_Model_3.h5')"
      ],
      "metadata": {
        "id": "ltIkBtZUA-pw"
      },
      "execution_count": 68,
      "outputs": []
    },
    {
      "cell_type": "code",
      "source": [
        "plot_curves(history)"
      ],
      "metadata": {
        "colab": {
          "base_uri": "https://localhost:8080/",
          "height": 295
        },
        "id": "nw8bkBZ0A4gW",
        "outputId": "6a736bca-2fdb-4e87-f9b1-33d233fc1102"
      },
      "execution_count": 69,
      "outputs": [
        {
          "output_type": "display_data",
          "data": {
            "image/png": "[encoded data removed]",
            "text/plain": [
              "<Figure size 432x288 with 1 Axes>"
            ]
          },
          "metadata": {
            "needs_background": "light"
          }
        }
      ]
    },
    {
      "cell_type": "markdown",
      "source": [
        "# Model 4\n",
        "\n",
        "Model 4 has 2 GRU layers followed by a dense and a classification layer"
      ],
      "metadata": {
        "id": "-SZOXBXTBAdt"
      }
    },
    {
      "cell_type": "code",
      "source": [
        "# define model\n",
        "model_4 = Sequential()\n",
        "model_4.add(Embedding(vocab_size, 30, input_length=seq_length))\n",
        "model_4.add(GRU(128, return_sequences=True))\n",
        "model_4.add(GRU(256))\n",
        "model_4.add(Dense(128, activation='relu'))\n",
        "model_4.add(Dense(vocab_size, activation='softmax'))"
      ],
      "metadata": {
        "id": "5M04B7ETBAdu"
      },
      "execution_count": 70,
      "outputs": []
    },
    {
      "cell_type": "code",
      "source": [
        "model_4.summary()"
      ],
      "metadata": {
        "colab": {
          "base_uri": "https://localhost:8080/"
        },
        "outputId": "b57dcb5a-e681-4048-8cb7-eea53d3418f8",
        "id": "Jts71tYHBAdu"
      },
      "execution_count": 71,
      "outputs": [
        {
          "output_type": "stream",
          "name": "stdout",
          "text": [
            "Model: \"sequential_9\"\n",
            "_________________________________________________________________\n",
            " Layer (type)                Output Shape              Param #   \n",
            "=================================================================\n",
            " embedding_9 (Embedding)     (None, 30, 30)            167880    \n",
            "                                                                 \n",
            " gru_2 (GRU)                 (None, 30, 128)           61440     \n",
            "                                                                 \n",
            " gru_3 (GRU)                 (None, 256)               296448    \n",
            "                                                                 \n",
            " dense_11 (Dense)            (None, 128)               32896     \n",
            "                                                                 \n",
            " dense_12 (Dense)            (None, 5596)              721884    \n",
            "                                                                 \n",
            "=================================================================\n",
            "Total params: 1,280,548\n",
            "Trainable params: 1,280,548\n",
            "Non-trainable params: 0\n",
            "_________________________________________________________________\n"
          ]
        }
      ]
    },
    {
      "cell_type": "code",
      "source": [
        "sgd = keras.optimizers.SGD(learning_rate=0.002)\n",
        "adam = keras.optimizers.Adam(0.002)\n",
        "nadam = keras.optimizers.Nadam(learning_rate=0.002)"
      ],
      "metadata": {
        "id": "EC1cZrrwBAdu"
      },
      "execution_count": 72,
      "outputs": []
    },
    {
      "cell_type": "code",
      "source": [
        "# compile model\n",
        "model_4.compile(loss='categorical_crossentropy', optimizer=adam, metrics=['accuracy'])\n",
        "# fit model\n",
        "history = model_4.fit(X, y, batch_size=128, epochs=100)"
      ],
      "metadata": {
        "colab": {
          "base_uri": "https://localhost:8080/"
        },
        "outputId": "5ef809c9-0c18-40dc-befe-a708765cf348",
        "id": "l3O2CnFgBAdu"
      },
      "execution_count": 73,
      "outputs": [
        {
          "output_type": "stream",
          "name": "stdout",
          "text": [
            "Epoch 1/100\n",
            "375/375 [==============================] - 7s 12ms/step - loss: 6.6510 - accuracy: 0.0582\n",
            "Epoch 2/100\n",
            "375/375 [==============================] - 4s 12ms/step - loss: 6.2235 - accuracy: 0.0717\n",
            "Epoch 3/100\n",
            "375/375 [==============================] - 4s 12ms/step - loss: 5.9905 - accuracy: 0.0820\n",
            "Epoch 4/100\n",
            "375/375 [==============================] - 4s 12ms/step - loss: 5.7659 - accuracy: 0.0957\n",
            "Epoch 5/100\n",
            "375/375 [==============================] - 4s 12ms/step - loss: 5.5524 - accuracy: 0.1100\n",
            "Epoch 6/100\n",
            "375/375 [==============================] - 4s 12ms/step - loss: 5.3725 - accuracy: 0.1209\n",
            "Epoch 7/100\n",
            "375/375 [==============================] - 4s 12ms/step - loss: 5.1929 - accuracy: 0.1323\n",
            "Epoch 8/100\n",
            "375/375 [==============================] - 4s 12ms/step - loss: 5.0221 - accuracy: 0.1428\n",
            "Epoch 9/100\n",
            "375/375 [==============================] - 4s 12ms/step - loss: 4.8552 - accuracy: 0.1537\n",
            "Epoch 10/100\n",
            "375/375 [==============================] - 4s 12ms/step - loss: 4.6919 - accuracy: 0.1662\n",
            "Epoch 11/100\n",
            "375/375 [==============================] - 4s 12ms/step - loss: 4.5244 - accuracy: 0.1796\n",
            "Epoch 12/100\n",
            "375/375 [==============================] - 4s 12ms/step - loss: 4.3669 - accuracy: 0.1909\n",
            "Epoch 13/100\n",
            "375/375 [==============================] - 4s 12ms/step - loss: 4.1909 - accuracy: 0.2049\n",
            "Epoch 14/100\n",
            "375/375 [==============================] - 4s 12ms/step - loss: 4.0171 - accuracy: 0.2203\n",
            "Epoch 15/100\n",
            "375/375 [==============================] - 4s 12ms/step - loss: 3.8500 - accuracy: 0.2354\n",
            "Epoch 16/100\n",
            "375/375 [==============================] - 4s 12ms/step - loss: 3.6964 - accuracy: 0.2520\n",
            "Epoch 17/100\n",
            "375/375 [==============================] - 4s 12ms/step - loss: 3.5110 - accuracy: 0.2734\n",
            "Epoch 18/100\n",
            "375/375 [==============================] - 4s 12ms/step - loss: 3.3403 - accuracy: 0.2932\n",
            "Epoch 19/100\n",
            "375/375 [==============================] - 4s 12ms/step - loss: 3.1886 - accuracy: 0.3163\n",
            "Epoch 20/100\n",
            "375/375 [==============================] - 4s 12ms/step - loss: 3.0185 - accuracy: 0.3400\n",
            "Epoch 21/100\n",
            "375/375 [==============================] - 4s 12ms/step - loss: 2.8550 - accuracy: 0.3681\n",
            "Epoch 22/100\n",
            "375/375 [==============================] - 4s 12ms/step - loss: 2.7239 - accuracy: 0.3869\n",
            "Epoch 23/100\n",
            "375/375 [==============================] - 4s 12ms/step - loss: 2.5746 - accuracy: 0.4132\n",
            "Epoch 24/100\n",
            "375/375 [==============================] - 4s 12ms/step - loss: 2.4268 - accuracy: 0.4388\n",
            "Epoch 25/100\n",
            "375/375 [==============================] - 4s 12ms/step - loss: 2.2988 - accuracy: 0.4621\n",
            "Epoch 26/100\n",
            "375/375 [==============================] - 4s 12ms/step - loss: 2.1776 - accuracy: 0.4828\n",
            "Epoch 27/100\n",
            "375/375 [==============================] - 4s 12ms/step - loss: 2.0432 - accuracy: 0.5112\n",
            "Epoch 28/100\n",
            "375/375 [==============================] - 4s 12ms/step - loss: 1.9518 - accuracy: 0.5298\n",
            "Epoch 29/100\n",
            "375/375 [==============================] - 4s 12ms/step - loss: 1.8931 - accuracy: 0.5371\n",
            "Epoch 30/100\n",
            "375/375 [==============================] - 4s 12ms/step - loss: 1.7248 - accuracy: 0.5740\n",
            "Epoch 31/100\n",
            "375/375 [==============================] - 4s 12ms/step - loss: 1.6584 - accuracy: 0.5855\n",
            "Epoch 32/100\n",
            "375/375 [==============================] - 4s 12ms/step - loss: 1.5287 - accuracy: 0.6155\n",
            "Epoch 33/100\n",
            "375/375 [==============================] - 4s 12ms/step - loss: 1.4788 - accuracy: 0.6210\n",
            "Epoch 34/100\n",
            "375/375 [==============================] - 4s 12ms/step - loss: 1.4246 - accuracy: 0.6344\n",
            "Epoch 35/100\n",
            "375/375 [==============================] - 4s 12ms/step - loss: 1.3262 - accuracy: 0.6554\n",
            "Epoch 36/100\n",
            "375/375 [==============================] - 4s 12ms/step - loss: 1.2534 - accuracy: 0.6720\n",
            "Epoch 37/100\n",
            "375/375 [==============================] - 4s 12ms/step - loss: 1.1767 - accuracy: 0.6871\n",
            "Epoch 38/100\n",
            "375/375 [==============================] - 4s 12ms/step - loss: 1.1007 - accuracy: 0.7049\n",
            "Epoch 39/100\n",
            "375/375 [==============================] - 4s 12ms/step - loss: 1.0782 - accuracy: 0.7107\n",
            "Epoch 40/100\n",
            "375/375 [==============================] - 4s 12ms/step - loss: 1.0101 - accuracy: 0.7240\n",
            "Epoch 41/100\n",
            "375/375 [==============================] - 4s 12ms/step - loss: 1.0028 - accuracy: 0.7261\n",
            "Epoch 42/100\n",
            "375/375 [==============================] - 4s 12ms/step - loss: 0.9746 - accuracy: 0.7303\n",
            "Epoch 43/100\n",
            "375/375 [==============================] - 4s 12ms/step - loss: 0.9225 - accuracy: 0.7429\n",
            "Epoch 44/100\n",
            "375/375 [==============================] - 4s 12ms/step - loss: 0.8409 - accuracy: 0.7636\n",
            "Epoch 45/100\n",
            "375/375 [==============================] - 4s 12ms/step - loss: 0.8385 - accuracy: 0.7659\n",
            "Epoch 46/100\n",
            "375/375 [==============================] - 4s 12ms/step - loss: 0.8615 - accuracy: 0.7574\n",
            "Epoch 47/100\n",
            "375/375 [==============================] - 4s 12ms/step - loss: 0.8891 - accuracy: 0.7467\n",
            "Epoch 48/100\n",
            "375/375 [==============================] - 4s 12ms/step - loss: 0.7699 - accuracy: 0.7778\n",
            "Epoch 49/100\n",
            "375/375 [==============================] - 4s 12ms/step - loss: 0.7348 - accuracy: 0.7890\n",
            "Epoch 50/100\n",
            "375/375 [==============================] - 4s 12ms/step - loss: 0.6897 - accuracy: 0.8023\n",
            "Epoch 51/100\n",
            "375/375 [==============================] - 4s 12ms/step - loss: 0.7513 - accuracy: 0.7819\n",
            "Epoch 52/100\n",
            "375/375 [==============================] - 4s 12ms/step - loss: 0.7667 - accuracy: 0.7781\n",
            "Epoch 53/100\n",
            "375/375 [==============================] - 4s 12ms/step - loss: 0.6517 - accuracy: 0.8090\n",
            "Epoch 54/100\n",
            "375/375 [==============================] - 4s 12ms/step - loss: 0.6569 - accuracy: 0.8064\n",
            "Epoch 55/100\n",
            "375/375 [==============================] - 4s 12ms/step - loss: 0.5904 - accuracy: 0.8242\n",
            "Epoch 56/100\n",
            "375/375 [==============================] - 4s 12ms/step - loss: 0.6151 - accuracy: 0.8180\n",
            "Epoch 57/100\n",
            "375/375 [==============================] - 4s 12ms/step - loss: 0.6111 - accuracy: 0.8203\n",
            "Epoch 58/100\n",
            "375/375 [==============================] - 4s 12ms/step - loss: 0.7412 - accuracy: 0.7816\n",
            "Epoch 59/100\n",
            "375/375 [==============================] - 4s 12ms/step - loss: 0.6827 - accuracy: 0.7999\n",
            "Epoch 60/100\n",
            "375/375 [==============================] - 4s 12ms/step - loss: 0.7095 - accuracy: 0.7903\n",
            "Epoch 61/100\n",
            "375/375 [==============================] - 4s 12ms/step - loss: 0.5964 - accuracy: 0.8234\n",
            "Epoch 62/100\n",
            "375/375 [==============================] - 4s 12ms/step - loss: 0.5067 - accuracy: 0.8466\n",
            "Epoch 63/100\n",
            "375/375 [==============================] - 4s 12ms/step - loss: 0.5482 - accuracy: 0.8363\n",
            "Epoch 64/100\n",
            "375/375 [==============================] - 4s 12ms/step - loss: 0.5225 - accuracy: 0.8422\n",
            "Epoch 65/100\n",
            "375/375 [==============================] - 4s 12ms/step - loss: 0.5506 - accuracy: 0.8335\n",
            "Epoch 66/100\n",
            "375/375 [==============================] - 4s 12ms/step - loss: 0.5883 - accuracy: 0.8253\n",
            "Epoch 67/100\n",
            "375/375 [==============================] - 4s 12ms/step - loss: 0.6052 - accuracy: 0.8215\n",
            "Epoch 68/100\n",
            "375/375 [==============================] - 4s 12ms/step - loss: 0.5640 - accuracy: 0.8309\n",
            "Epoch 69/100\n",
            "375/375 [==============================] - 4s 12ms/step - loss: 0.5240 - accuracy: 0.8420\n",
            "Epoch 70/100\n",
            "375/375 [==============================] - 4s 12ms/step - loss: 0.5645 - accuracy: 0.8331\n",
            "Epoch 71/100\n",
            "375/375 [==============================] - 4s 12ms/step - loss: 0.5205 - accuracy: 0.8424\n",
            "Epoch 72/100\n",
            "375/375 [==============================] - 4s 12ms/step - loss: 0.4953 - accuracy: 0.8503\n",
            "Epoch 73/100\n",
            "375/375 [==============================] - 4s 12ms/step - loss: 0.6344 - accuracy: 0.8116\n",
            "Epoch 74/100\n",
            "375/375 [==============================] - 4s 12ms/step - loss: 0.6736 - accuracy: 0.8039\n",
            "Epoch 75/100\n",
            "375/375 [==============================] - 4s 12ms/step - loss: 0.5256 - accuracy: 0.8397\n",
            "Epoch 76/100\n",
            "375/375 [==============================] - 4s 12ms/step - loss: 0.4431 - accuracy: 0.8646\n",
            "Epoch 77/100\n",
            "375/375 [==============================] - 4s 12ms/step - loss: 0.4509 - accuracy: 0.8638\n",
            "Epoch 78/100\n",
            "375/375 [==============================] - 4s 12ms/step - loss: 0.5359 - accuracy: 0.8402\n",
            "Epoch 79/100\n",
            "375/375 [==============================] - 4s 12ms/step - loss: 0.5389 - accuracy: 0.8378\n",
            "Epoch 80/100\n",
            "375/375 [==============================] - 4s 12ms/step - loss: 0.5378 - accuracy: 0.8399\n",
            "Epoch 81/100\n",
            "375/375 [==============================] - 4s 12ms/step - loss: 0.5523 - accuracy: 0.8355\n",
            "Epoch 82/100\n",
            "375/375 [==============================] - 4s 12ms/step - loss: 0.5417 - accuracy: 0.8366\n",
            "Epoch 83/100\n",
            "375/375 [==============================] - 4s 12ms/step - loss: 0.5805 - accuracy: 0.8275\n",
            "Epoch 84/100\n",
            "375/375 [==============================] - 4s 12ms/step - loss: 0.4871 - accuracy: 0.8531\n",
            "Epoch 85/100\n",
            "375/375 [==============================] - 4s 12ms/step - loss: 0.4526 - accuracy: 0.8602\n",
            "Epoch 86/100\n",
            "375/375 [==============================] - 4s 12ms/step - loss: 0.4354 - accuracy: 0.8689\n",
            "Epoch 87/100\n",
            "375/375 [==============================] - 4s 12ms/step - loss: 0.5259 - accuracy: 0.8441\n",
            "Epoch 88/100\n",
            "375/375 [==============================] - 4s 12ms/step - loss: 0.6065 - accuracy: 0.8221\n",
            "Epoch 89/100\n",
            "375/375 [==============================] - 4s 12ms/step - loss: 0.5490 - accuracy: 0.8390\n",
            "Epoch 90/100\n",
            "375/375 [==============================] - 4s 12ms/step - loss: 0.4812 - accuracy: 0.8556\n",
            "Epoch 91/100\n",
            "375/375 [==============================] - 4s 12ms/step - loss: 0.4814 - accuracy: 0.8546\n",
            "Epoch 92/100\n",
            "375/375 [==============================] - 4s 12ms/step - loss: 0.5174 - accuracy: 0.8462\n",
            "Epoch 93/100\n",
            "375/375 [==============================] - 4s 12ms/step - loss: 0.5291 - accuracy: 0.8438\n",
            "Epoch 94/100\n",
            "375/375 [==============================] - 4s 12ms/step - loss: 0.4675 - accuracy: 0.8589\n",
            "Epoch 95/100\n",
            "375/375 [==============================] - 4s 12ms/step - loss: 0.5036 - accuracy: 0.8496\n",
            "Epoch 96/100\n",
            "375/375 [==============================] - 4s 12ms/step - loss: 0.5194 - accuracy: 0.8474\n",
            "Epoch 97/100\n",
            "375/375 [==============================] - 4s 12ms/step - loss: 0.5228 - accuracy: 0.8440\n",
            "Epoch 98/100\n",
            "375/375 [==============================] - 4s 12ms/step - loss: 0.4839 - accuracy: 0.8549\n",
            "Epoch 99/100\n",
            "375/375 [==============================] - 4s 12ms/step - loss: 0.5222 - accuracy: 0.8470\n",
            "Epoch 100/100\n",
            "375/375 [==============================] - 4s 12ms/step - loss: 0.5971 - accuracy: 0.8264\n"
          ]
        }
      ]
    },
    {
      "cell_type": "code",
      "source": [
        "# save the model to file\n",
        "model_4.save('drive/MyDrive/Newcastle University/Deep Learning/Models/Language_Model_4.h5')"
      ],
      "metadata": {
        "id": "qiECUJqjBAdv"
      },
      "execution_count": 74,
      "outputs": []
    },
    {
      "cell_type": "code",
      "source": [
        "plot_curves(history)"
      ],
      "metadata": {
        "colab": {
          "base_uri": "https://localhost:8080/",
          "height": 295
        },
        "id": "4-122kbpA4kU",
        "outputId": "39902292-4a9a-4e86-d240-c63fe71d42f9"
      },
      "execution_count": 75,
      "outputs": [
        {
          "output_type": "display_data",
          "data": {
            "image/png": "[encoded data removed]",
            "text/plain": [
              "<Figure size 432x288 with 1 Axes>"
            ]
          },
          "metadata": {
            "needs_background": "light"
          }
        }
      ]
    },
    {
      "cell_type": "code",
      "source": [
        ""
      ],
      "metadata": {
        "id": "Un3fWxnrA4nF"
      },
      "execution_count": null,
      "outputs": []
    },
    {
      "cell_type": "code",
      "source": [
        ""
      ],
      "metadata": {
        "id": "C641z2ldA4pz"
      },
      "execution_count": null,
      "outputs": []
    },
    {
      "cell_type": "code",
      "source": [
        ""
      ],
      "metadata": {
        "id": "q1Fwbi81A4sE"
      },
      "execution_count": null,
      "outputs": []
    },
    {
      "cell_type": "code",
      "source": [
        ""
      ],
      "metadata": {
        "id": "-gjDfz22A4uZ"
      },
      "execution_count": null,
      "outputs": []
    },
    {
      "cell_type": "code",
      "source": [
        ""
      ],
      "metadata": {
        "id": "np88gN7fA4wt"
      },
      "execution_count": null,
      "outputs": []
    },
    {
      "cell_type": "code",
      "source": [
        ""
      ],
      "metadata": {
        "id": "J1uNTCjOA407"
      },
      "execution_count": null,
      "outputs": []
    },
    {
      "cell_type": "code",
      "source": [
        ""
      ],
      "metadata": {
        "id": "AyGvus9iA43j"
      },
      "execution_count": null,
      "outputs": []
    },
    {
      "cell_type": "code",
      "source": [
        ""
      ],
      "metadata": {
        "id": "0BCWG-jAA458"
      },
      "execution_count": null,
      "outputs": []
    },
    {
      "cell_type": "code",
      "source": [
        ""
      ],
      "metadata": {
        "id": "dCR7QZqCo2Pt"
      },
      "execution_count": null,
      "outputs": []
    },
    {
      "cell_type": "code",
      "source": [
        ""
      ],
      "metadata": {
        "id": "t8BRTfbUo2SU"
      },
      "execution_count": null,
      "outputs": []
    }
  ]
}