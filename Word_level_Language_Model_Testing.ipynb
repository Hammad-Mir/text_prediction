{
  "cells": [
    {
      "cell_type": "code",
      "execution_count": 21,
      "metadata": {
        "id": "o56rGGK0K8wH"
      },
      "outputs": [],
      "source": [
        "import os\n",
        "import sys\n",
        "import string\n",
        "import numpy as np\n",
        "from tensorflow import keras\n",
        "from pickle import dump, load\n",
        "from matplotlib import pyplot as plt\n",
        "from tensorflow.keras.models import load_model\n",
        "from tensorflow.keras.utils import to_categorical\n",
        "from tensorflow.keras.preprocessing.text import Tokenizer\n",
        "from tensorflow.keras.layers import Dense, LSTM, Embedding, GRU\n",
        "from tensorflow.keras.preprocessing.sequence import pad_sequences"
      ]
    },
    {
      "cell_type": "code",
      "execution_count": 22,
      "metadata": {
        "id": "mozRu0HOLXp2"
      },
      "outputs": [],
      "source": [
        "# test document path\n",
        "test_doc = 'drive/MyDrive/Newcastle University/Deep Learning/Data/test.txt'"
      ]
    },
    {
      "cell_type": "code",
      "execution_count": 23,
      "metadata": {
        "id": "ZUR4Jyq_LXvz"
      },
      "outputs": [],
      "source": [
        "# load doc into memory\n",
        "def load_doc(filename):\n",
        "  # open the file as read only\n",
        "  file = open(filename, 'r')\n",
        "  # read all text\n",
        "  text = file.read()\n",
        "  # close the file\n",
        "  file.close()\n",
        "  return text"
      ]
    },
    {
      "cell_type": "code",
      "execution_count": 24,
      "metadata": {
        "id": "LOc5DU2wLXs0"
      },
      "outputs": [],
      "source": [
        "# function to convert a document into clean tokens\n",
        "def clean_doc(doc):\n",
        "\t# replacing '--' with a space ' '\n",
        "\tdoc = doc.replace('--', ' ')\n",
        "\t# splitting into tokens by white space\n",
        "\ttokens = doc.split()\n",
        "\t# removing punctuation from each token\n",
        "\ttable = str.maketrans('', '', string.punctuation)\n",
        "\ttokens = [w.translate(table) for w in tokens]\n",
        "\t# removing non-alphabetic tokens\n",
        "\ttokens = [word for word in tokens if word.isalpha()]\n",
        "\t# converting to lower case\n",
        "\ttokens = [word.lower() for word in tokens]\n",
        "\treturn tokens"
      ]
    },
    {
      "cell_type": "code",
      "execution_count": 59,
      "metadata": {
        "id": "AwVVxRZQLX8k"
      },
      "outputs": [],
      "source": [
        "# generate a sequence from a language model\n",
        "def generate_seq(model, tokenizer, seq_length, seed_text, n_words):\n",
        "    result = list()\n",
        "    in_text = seed_text.copy()\n",
        "    # generate a fixed number of words\n",
        "    for _ in range(n_words):\n",
        "     # encode the text as integer\n",
        "     encoded = tokenizer.texts_to_sequences([in_text])[0]\n",
        "     # truncate sequences to a fixed length\n",
        "     encoded = pad_sequences([encoded], maxlen=seq_length, truncating='pre')\n",
        "     # predict probabilities for each word\n",
        "     #yhat = model.predict_classes(encoded, verbose=0)\n",
        "     yhat = np.argmax(model.predict(encoded), axis=1)\n",
        "     # map predicted word index to word\n",
        "     out_word = ''\n",
        "     for word, index in tokenizer.word_index.items():\n",
        "         if index == yhat:\n",
        "             out_word = word\n",
        "             break\n",
        "     # append to input\n",
        "     in_text += ' ' + out_word\n",
        "     result.append(out_word)\n",
        "    return ' '.join(result)"
      ]
    },
    {
      "cell_type": "code",
      "execution_count": 60,
      "metadata": {
        "colab": {
          "base_uri": "https://localhost:8080/"
        },
        "id": "IAT4bIeXLXyO",
        "outputId": "a8fceefd-4e1c-42d4-c0db-d5f628be4d2a"
      },
      "outputs": [
        {
          "name": "stdout",
          "output_type": "stream",
          "text": [
            "It was five o'clock on a winter's morning in Syria. Alongside the platform at Aleppo stood the train grandly designated in railway guides as the Taurus Express. It consisted of a kitchen and dining-car, a sleeping-car and two local coaches.\n",
            "By the step leading up into the sleeping-car stood a young \n"
          ]
        }
      ],
      "source": [
        "doc = load_doc(test_doc)\n",
        "print(doc[:300])"
      ]
    },
    {
      "cell_type": "code",
      "execution_count": 61,
      "metadata": {
        "id": "PzoYuJ0oLX0X"
      },
      "outputs": [],
      "source": [
        "# cleaned text\n",
        "tokens = clean_doc(doc)"
      ]
    },
    {
      "cell_type": "code",
      "execution_count": 62,
      "metadata": {
        "colab": {
          "base_uri": "https://localhost:8080/"
        },
        "id": "RV5edQCCRDRD",
        "outputId": "1547c373-63ea-4616-c0f2-d81c68ea14df"
      },
      "outputs": [
        {
          "data": {
            "text/plain": [
              "346"
            ]
          },
          "execution_count": 62,
          "metadata": {},
          "output_type": "execute_result"
        }
      ],
      "source": [
        "len(tokens)"
      ]
    },
    {
      "cell_type": "code",
      "execution_count": 85,
      "metadata": {
        "id": "OJHcm2ayLX6U"
      },
      "outputs": [],
      "source": [
        "# Length of input sequence\n",
        "seq_length = 30\n",
        "\n",
        "# seed test starting point\n",
        "i = 29"
      ]
    },
    {
      "cell_type": "code",
      "execution_count": 86,
      "metadata": {
        "id": "cE_uSRf8LX3S"
      },
      "outputs": [],
      "source": [
        "seed_text = tokens[i:i+seq_length]\n",
        "seed_text = ' '.join(seed_text)\n",
        "seed_text = [seed_text]"
      ]
    },
    {
      "cell_type": "code",
      "execution_count": 87,
      "metadata": {
        "colab": {
          "base_uri": "https://localhost:8080/"
        },
        "id": "gjCN4giYXauy",
        "outputId": "2154355d-a466-40f2-fe8e-0c4441410e70"
      },
      "outputs": [
        {
          "data": {
            "text/plain": [
              "list"
            ]
          },
          "execution_count": 87,
          "metadata": {},
          "output_type": "execute_result"
        }
      ],
      "source": [
        "type(seed_text)"
      ]
    },
    {
      "cell_type": "code",
      "execution_count": 88,
      "metadata": {
        "colab": {
          "base_uri": "https://localhost:8080/"
        },
        "id": "B9mRJxQTQ12X",
        "outputId": "f442b13e-e5f5-494e-ae47-7eaa1d70cf96"
      },
      "outputs": [
        {
          "name": "stdout",
          "output_type": "stream",
          "text": [
            "['of a kitchen and diningcar a sleepingcar and two local coaches by the step leading up into the sleepingcar stood a young french lieutenant resplendent in uniform conversing with a']\n"
          ]
        }
      ],
      "source": [
        "print(seed_text)"
      ]
    },
    {
      "cell_type": "code",
      "execution_count": 67,
      "metadata": {
        "id": "HE6wXIxROfcn"
      },
      "outputs": [],
      "source": [
        "tokenizer = load(open('drive/MyDrive/Newcastle University/Deep Learning/Models/tokenizer.pkl', 'rb'))"
      ]
    },
    {
      "cell_type": "code",
      "execution_count": 68,
      "metadata": {
        "id": "6tmafz0DLYAq"
      },
      "outputs": [],
      "source": [
        "model_1 = load_model('drive/MyDrive/Newcastle University/Deep Learning/Models/Language_Model_1.h5')"
      ]
    },
    {
      "cell_type": "code",
      "execution_count": 69,
      "metadata": {
        "id": "vu0l9fquLYCz"
      },
      "outputs": [],
      "source": [
        "model_2 = load_model('drive/MyDrive/Newcastle University/Deep Learning/Models/Language_Model_2.h5')"
      ]
    },
    {
      "cell_type": "code",
      "execution_count": 70,
      "metadata": {
        "id": "gZ57f4b_LYEx"
      },
      "outputs": [],
      "source": [
        "model_3 = load_model('drive/MyDrive/Newcastle University/Deep Learning/Models/Language_Model_3.h5')"
      ]
    },
    {
      "cell_type": "code",
      "execution_count": 71,
      "metadata": {
        "id": "1iYho-UxLYGr"
      },
      "outputs": [],
      "source": [
        "model_4 = load_model('drive/MyDrive/Newcastle University/Deep Learning/Models/Language_Model_4.h5')"
      ]
    },
    {
      "cell_type": "markdown",
      "metadata": {
        "id": "UCd57PRuQBQc"
      },
      "source": [
        "### Text Gen Model 1"
      ]
    },
    {
      "cell_type": "code",
      "execution_count": 89,
      "metadata": {
        "colab": {
          "base_uri": "https://localhost:8080/"
        },
        "id": "hCs8-9I_LYKT",
        "outputId": "4d49d926-f121-4654-e9ff-3a826eb4e5af"
      },
      "outputs": [
        {
          "name": "stdout",
          "output_type": "stream",
          "text": [
            "['of a kitchen and diningcar a sleepingcar and two local coaches by the step leading up into the sleepingcar stood a young french lieutenant resplendent in uniform conversing with a']\n"
          ]
        }
      ],
      "source": [
        "print(seed_text)"
      ]
    },
    {
      "cell_type": "code",
      "execution_count": 90,
      "metadata": {
        "colab": {
          "base_uri": "https://localhost:8080/"
        },
        "id": "J3Hnoi5YLX-l",
        "outputId": "a7d0a044-41d8-4db8-89d7-615bd24bd8fa"
      },
      "outputs": [
        {
          "name": "stdout",
          "output_type": "stream",
          "text": [
            "each from women to to\n"
          ]
        }
      ],
      "source": [
        "# generate new text\n",
        "generated = generate_seq(model_1, tokenizer, seq_length, seed_text, 5)\n",
        "print(generated)"
      ]
    },
    {
      "cell_type": "code",
      "execution_count": 90,
      "metadata": {
        "id": "dlPHkyB-LYOD"
      },
      "outputs": [],
      "source": []
    },
    {
      "cell_type": "markdown",
      "metadata": {
        "id": "uRBsc0zuQUAV"
      },
      "source": [
        "### Text Gen Model 2"
      ]
    },
    {
      "cell_type": "code",
      "execution_count": 91,
      "metadata": {
        "colab": {
          "base_uri": "https://localhost:8080/"
        },
        "id": "r_sW2tn2QUAX",
        "outputId": "949feed9-a786-4d01-bc8c-3ebbe663e62b"
      },
      "outputs": [
        {
          "name": "stdout",
          "output_type": "stream",
          "text": [
            "['of a kitchen and diningcar a sleepingcar and two local coaches by the step leading up into the sleepingcar stood a young french lieutenant resplendent in uniform conversing with a']\n"
          ]
        }
      ],
      "source": [
        "print(seed_text)"
      ]
    },
    {
      "cell_type": "code",
      "execution_count": 92,
      "metadata": {
        "colab": {
          "base_uri": "https://localhost:8080/"
        },
        "id": "aO7gm1GVQUAa",
        "outputId": "14bff2a5-fa7b-40cf-bfbe-ae952b75e29d"
      },
      "outputs": [
        {
          "name": "stdout",
          "output_type": "stream",
          "text": [
            "as large thing de de de de de de de\n"
          ]
        }
      ],
      "source": [
        "# generate new text\n",
        "generated = generate_seq(model_2, tokenizer, seq_length, seed_text, 10)\n",
        "print(generated)"
      ]
    },
    {
      "cell_type": "code",
      "execution_count": 92,
      "metadata": {
        "id": "mAcJJQnAQWar"
      },
      "outputs": [],
      "source": []
    },
    {
      "cell_type": "markdown",
      "metadata": {
        "id": "GoapS4BxQWsp"
      },
      "source": [
        "### Text Gen Model 3"
      ]
    },
    {
      "cell_type": "code",
      "execution_count": 93,
      "metadata": {
        "colab": {
          "base_uri": "https://localhost:8080/"
        },
        "id": "gw2lIdDpQWsp",
        "outputId": "bee7b486-18e5-4558-a8e4-f8e8e3c011dd"
      },
      "outputs": [
        {
          "name": "stdout",
          "output_type": "stream",
          "text": [
            "['of a kitchen and diningcar a sleepingcar and two local coaches by the step leading up into the sleepingcar stood a young french lieutenant resplendent in uniform conversing with a']\n"
          ]
        }
      ],
      "source": [
        "print(seed_text)"
      ]
    },
    {
      "cell_type": "code",
      "execution_count": 94,
      "metadata": {
        "colab": {
          "base_uri": "https://localhost:8080/"
        },
        "id": "qK2bMOfkQWsq",
        "outputId": "66807dd5-1f0b-483f-9036-6df8959ad174"
      },
      "outputs": [
        {
          "name": "stdout",
          "output_type": "stream",
          "text": [
            "the the the the the the the the the the\n"
          ]
        }
      ],
      "source": [
        "# generate new text\n",
        "generated = generate_seq(model_3, tokenizer, seq_length, seed_text, 10)\n",
        "print(generated)"
      ]
    },
    {
      "cell_type": "code",
      "execution_count": 94,
      "metadata": {
        "id": "5OStiVZjQWsq"
      },
      "outputs": [],
      "source": []
    },
    {
      "cell_type": "markdown",
      "metadata": {
        "id": "lkhfWYmKQW6W"
      },
      "source": [
        "### Text Gen Model 4"
      ]
    },
    {
      "cell_type": "code",
      "execution_count": 95,
      "metadata": {
        "colab": {
          "base_uri": "https://localhost:8080/"
        },
        "id": "hswNvjxFQW6W",
        "outputId": "48e599f8-7e94-4c8d-fb20-f3ca7296fe96"
      },
      "outputs": [
        {
          "name": "stdout",
          "output_type": "stream",
          "text": [
            "['of a kitchen and diningcar a sleepingcar and two local coaches by the step leading up into the sleepingcar stood a young french lieutenant resplendent in uniform conversing with a']\n"
          ]
        }
      ],
      "source": [
        "print(seed_text)"
      ]
    },
    {
      "cell_type": "code",
      "execution_count": 96,
      "metadata": {
        "colab": {
          "base_uri": "https://localhost:8080/"
        },
        "id": "Nz71dZzVQW6W",
        "outputId": "459b28a8-4425-46ef-c638-c7b87e1adf82"
      },
      "outputs": [
        {
          "name": "stdout",
          "output_type": "stream",
          "text": [
            "then then then then then\n"
          ]
        }
      ],
      "source": [
        "# generate new text\n",
        "generated = generate_seq(model_4, tokenizer, seq_length, seed_text, 5)\n",
        "print(generated)"
      ]
    },
    {
      "cell_type": "code",
      "execution_count": null,
      "metadata": {
        "id": "VEVeOEf8QW6X"
      },
      "outputs": [],
      "source": []
    }
  ],
  "metadata": {
    "accelerator": "GPU",
    "colab": {
      "name": "DL_Language_Model_Testing.ipynb",
      "provenance": []
    },
    "kernelspec": {
      "display_name": "Python 3",
      "name": "python3"
    },
    "language_info": {
      "name": "python"
    }
  },
  "nbformat": 4,
  "nbformat_minor": 0
}
